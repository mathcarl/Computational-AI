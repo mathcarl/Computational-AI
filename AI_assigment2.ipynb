{
  "nbformat": 4,
  "nbformat_minor": 0,
  "metadata": {
    "colab": {
      "name": "AI_assigment2.ipynb",
      "provenance": [],
      "authorship_tag": "ABX9TyPVHXt/TWFVKrjJFhTMUGoT",
      "include_colab_link": true
    },
    "kernelspec": {
      "name": "python3",
      "display_name": "Python 3"
    }
  },
  "cells": [
    {
      "cell_type": "markdown",
      "metadata": {
        "id": "view-in-github",
        "colab_type": "text"
      },
      "source": [
        "<a href=\"https://colab.research.google.com/github/mathcarl/Computational-AI/blob/main/AI_assigment2.ipynb\" target=\"_parent\"><img src=\"https://colab.research.google.com/assets/colab-badge.svg\" alt=\"Open In Colab\"/></a>"
      ]
    },
    {
      "cell_type": "code",
      "metadata": {
        "id": "sZN7OY1vA6de"
      },
      "source": [
        "import pandas as pd\n",
        "import numpy as np\n",
        "import matplotlib.pyplot as plt\n",
        "import seaborn as sns"
      ],
      "execution_count": 2,
      "outputs": []
    },
    {
      "cell_type": "code",
      "metadata": {
        "id": "TjAmNgGnBxVc",
        "colab": {
          "resources": {
            "http://localhost:8080/nbextensions/google.colab/files.js": {
              "data": "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",
              "ok": true,
              "headers": [
                [
                  "content-type",
                  "application/javascript"
                ]
              ],
              "status": 200,
              "status_text": ""
            }
          },
          "base_uri": "https://localhost:8080/",
          "height": 72
        },
        "outputId": "a5284d0c-2c73-488f-f830-76e9a3df91b3"
      },
      "source": [
        "from google.colab import files\n",
        "uploaded=files.upload()"
      ],
      "execution_count": 3,
      "outputs": [
        {
          "output_type": "display_data",
          "data": {
            "text/html": [
              "\n",
              "     <input type=\"file\" id=\"files-4e41c679-cb12-40d9-b3af-ec60a9b6dbe1\" name=\"files[]\" multiple disabled\n",
              "        style=\"border:none\" />\n",
              "     <output id=\"result-4e41c679-cb12-40d9-b3af-ec60a9b6dbe1\">\n",
              "      Upload widget is only available when the cell has been executed in the\n",
              "      current browser session. Please rerun this cell to enable.\n",
              "      </output>\n",
              "      <script src=\"/nbextensions/google.colab/files.js\"></script> "
            ],
            "text/plain": [
              "<IPython.core.display.HTML object>"
            ]
          },
          "metadata": {
            "tags": []
          }
        },
        {
          "output_type": "stream",
          "text": [
            "Saving Credit_N400_p9.csv to Credit_N400_p9.csv\n"
          ],
          "name": "stdout"
        }
      ]
    },
    {
      "cell_type": "code",
      "metadata": {
        "id": "lVIkhbQDDCrE"
      },
      "source": [
        "import io\n",
        "credit = pd.read_csv(io.BytesIO(uploaded['Credit_N400_p9.csv']))"
      ],
      "execution_count": 4,
      "outputs": []
    },
    {
      "cell_type": "code",
      "metadata": {
        "id": "hGPY5hgFDt4A"
      },
      "source": [
        "credit = credit.sample(frac=1).reset_index(drop=True) # sample without replacement and fraction of axis 1. reset index to default\n"
      ],
      "execution_count": 5,
      "outputs": []
    },
    {
      "cell_type": "code",
      "metadata": {
        "id": "1yOzj-kJD3c2"
      },
      "source": [
        "#assign categorical values to classes \n",
        "credit['Gender']=credit['Gender'].astype('category')\n",
        "credit['Student']=credit['Student'].astype('category')\n",
        "credit['Married']=credit['Married'].astype('category')\n",
        "cat_columns=credit.select_dtypes(['category']).columns\n",
        "credit[cat_columns]=credit[cat_columns].apply(lambda x:x.cat.codes)"
      ],
      "execution_count": 6,
      "outputs": []
    },
    {
      "cell_type": "code",
      "metadata": {
        "id": "iDfD3eJWFM_p"
      },
      "source": [
        "#create variables\n",
        "X=credit.drop(['Balance'],axis=1) \n",
        "y=credit['Balance']"
      ],
      "execution_count": 7,
      "outputs": []
    },
    {
      "cell_type": "code",
      "metadata": {
        "id": "F90oKPyHE6xq",
        "colab": {
          "base_uri": "https://localhost:8080/",
          "height": 204
        },
        "outputId": "aba194a2-3d4c-4fa4-c9cd-ccc754e1522e"
      },
      "source": [
        "credit.head() # explore data"
      ],
      "execution_count": null,
      "outputs": [
        {
          "output_type": "execute_result",
          "data": {
            "text/html": [
              "<div>\n",
              "<style scoped>\n",
              "    .dataframe tbody tr th:only-of-type {\n",
              "        vertical-align: middle;\n",
              "    }\n",
              "\n",
              "    .dataframe tbody tr th {\n",
              "        vertical-align: top;\n",
              "    }\n",
              "\n",
              "    .dataframe thead th {\n",
              "        text-align: right;\n",
              "    }\n",
              "</style>\n",
              "<table border=\"1\" class=\"dataframe\">\n",
              "  <thead>\n",
              "    <tr style=\"text-align: right;\">\n",
              "      <th></th>\n",
              "      <th>Income</th>\n",
              "      <th>Limit</th>\n",
              "      <th>Rating</th>\n",
              "      <th>Cards</th>\n",
              "      <th>Age</th>\n",
              "      <th>Education</th>\n",
              "      <th>Gender</th>\n",
              "      <th>Student</th>\n",
              "      <th>Married</th>\n",
              "      <th>Balance</th>\n",
              "    </tr>\n",
              "  </thead>\n",
              "  <tbody>\n",
              "    <tr>\n",
              "      <th>0</th>\n",
              "      <td>31.367</td>\n",
              "      <td>1829</td>\n",
              "      <td>162</td>\n",
              "      <td>4</td>\n",
              "      <td>30</td>\n",
              "      <td>10</td>\n",
              "      <td>1</td>\n",
              "      <td>0</td>\n",
              "      <td>1</td>\n",
              "      <td>0</td>\n",
              "    </tr>\n",
              "    <tr>\n",
              "      <th>1</th>\n",
              "      <td>76.782</td>\n",
              "      <td>5977</td>\n",
              "      <td>429</td>\n",
              "      <td>4</td>\n",
              "      <td>44</td>\n",
              "      <td>12</td>\n",
              "      <td>1</td>\n",
              "      <td>0</td>\n",
              "      <td>1</td>\n",
              "      <td>548</td>\n",
              "    </tr>\n",
              "    <tr>\n",
              "      <th>2</th>\n",
              "      <td>23.793</td>\n",
              "      <td>3821</td>\n",
              "      <td>281</td>\n",
              "      <td>4</td>\n",
              "      <td>56</td>\n",
              "      <td>12</td>\n",
              "      <td>0</td>\n",
              "      <td>1</td>\n",
              "      <td>1</td>\n",
              "      <td>868</td>\n",
              "    </tr>\n",
              "    <tr>\n",
              "      <th>3</th>\n",
              "      <td>158.889</td>\n",
              "      <td>11589</td>\n",
              "      <td>805</td>\n",
              "      <td>1</td>\n",
              "      <td>62</td>\n",
              "      <td>17</td>\n",
              "      <td>0</td>\n",
              "      <td>0</td>\n",
              "      <td>1</td>\n",
              "      <td>1448</td>\n",
              "    </tr>\n",
              "    <tr>\n",
              "      <th>4</th>\n",
              "      <td>49.166</td>\n",
              "      <td>6662</td>\n",
              "      <td>508</td>\n",
              "      <td>3</td>\n",
              "      <td>68</td>\n",
              "      <td>14</td>\n",
              "      <td>0</td>\n",
              "      <td>0</td>\n",
              "      <td>0</td>\n",
              "      <td>984</td>\n",
              "    </tr>\n",
              "  </tbody>\n",
              "</table>\n",
              "</div>"
            ],
            "text/plain": [
              "    Income  Limit  Rating  Cards  ...  Gender  Student  Married  Balance\n",
              "0   31.367   1829     162      4  ...       1        0        1        0\n",
              "1   76.782   5977     429      4  ...       1        0        1      548\n",
              "2   23.793   3821     281      4  ...       0        1        1      868\n",
              "3  158.889  11589     805      1  ...       0        0        1     1448\n",
              "4   49.166   6662     508      3  ...       0        0        0      984\n",
              "\n",
              "[5 rows x 10 columns]"
            ]
          },
          "metadata": {
            "tags": []
          },
          "execution_count": 7
        }
      ]
    },
    {
      "cell_type": "code",
      "metadata": {
        "id": "fbSQEqSEFHZI",
        "colab": {
          "base_uri": "https://localhost:8080/",
          "height": 34
        },
        "outputId": "0d645124-4cd9-4888-e5f5-ffb53e21663e"
      },
      "source": [
        "len(credit)"
      ],
      "execution_count": null,
      "outputs": [
        {
          "output_type": "execute_result",
          "data": {
            "text/plain": [
              "400"
            ]
          },
          "metadata": {
            "tags": []
          },
          "execution_count": 8
        }
      ]
    },
    {
      "cell_type": "code",
      "metadata": {
        "id": "BB_DOvRLFKC3"
      },
      "source": [
        "# create function for standardize and centering the data\n",
        "def standardize(X):\n",
        "  credit1=(X-X.mean())/X.std()\n",
        "  return credit1\n",
        "def centered_y(y):\n",
        "  credit2=y-y.mean()\n",
        "  return credit2"
      ],
      "execution_count": 8,
      "outputs": []
    },
    {
      "cell_type": "code",
      "metadata": {
        "id": "fkaZYKvKF1AB"
      },
      "source": [
        "# standardize X and center Y\n",
        "X=standardize(X)\n",
        "y=centered_y(y)"
      ],
      "execution_count": null,
      "outputs": []
    },
    {
      "cell_type": "code",
      "metadata": {
        "id": "DevNtZWjT3x0",
        "colab": {
          "base_uri": "https://localhost:8080/",
          "height": 204
        },
        "outputId": "bac3a96f-baf4-402f-987a-3e5f0b5f6086"
      },
      "source": [
        "X.head() # print standaridize data"
      ],
      "execution_count": null,
      "outputs": [
        {
          "output_type": "execute_result",
          "data": {
            "text/html": [
              "<div>\n",
              "<style scoped>\n",
              "    .dataframe tbody tr th:only-of-type {\n",
              "        vertical-align: middle;\n",
              "    }\n",
              "\n",
              "    .dataframe tbody tr th {\n",
              "        vertical-align: top;\n",
              "    }\n",
              "\n",
              "    .dataframe thead th {\n",
              "        text-align: right;\n",
              "    }\n",
              "</style>\n",
              "<table border=\"1\" class=\"dataframe\">\n",
              "  <thead>\n",
              "    <tr style=\"text-align: right;\">\n",
              "      <th></th>\n",
              "      <th>Income</th>\n",
              "      <th>Limit</th>\n",
              "      <th>Rating</th>\n",
              "      <th>Cards</th>\n",
              "      <th>Age</th>\n",
              "      <th>Education</th>\n",
              "      <th>Gender</th>\n",
              "      <th>Student</th>\n",
              "      <th>Married</th>\n",
              "    </tr>\n",
              "  </thead>\n",
              "  <tbody>\n",
              "    <tr>\n",
              "      <th>0</th>\n",
              "      <td>-0.393025</td>\n",
              "      <td>-1.259250</td>\n",
              "      <td>-1.246993</td>\n",
              "      <td>0.760241</td>\n",
              "      <td>-1.487988</td>\n",
              "      <td>-1.103927</td>\n",
              "      <td>1.034339</td>\n",
              "      <td>-0.332916</td>\n",
              "      <td>0.794400</td>\n",
              "    </tr>\n",
              "    <tr>\n",
              "      <th>1</th>\n",
              "      <td>0.895553</td>\n",
              "      <td>0.537822</td>\n",
              "      <td>0.478658</td>\n",
              "      <td>0.760241</td>\n",
              "      <td>-0.676384</td>\n",
              "      <td>-0.463969</td>\n",
              "      <td>1.034339</td>\n",
              "      <td>-0.332916</td>\n",
              "      <td>0.794400</td>\n",
              "    </tr>\n",
              "    <tr>\n",
              "      <th>2</th>\n",
              "      <td>-0.607925</td>\n",
              "      <td>-0.396240</td>\n",
              "      <td>-0.477883</td>\n",
              "      <td>0.760241</td>\n",
              "      <td>0.019276</td>\n",
              "      <td>-0.463969</td>\n",
              "      <td>-0.964384</td>\n",
              "      <td>2.996248</td>\n",
              "      <td>0.794400</td>\n",
              "    </tr>\n",
              "    <tr>\n",
              "      <th>3</th>\n",
              "      <td>3.225208</td>\n",
              "      <td>2.969155</td>\n",
              "      <td>2.908790</td>\n",
              "      <td>-1.427504</td>\n",
              "      <td>0.367106</td>\n",
              "      <td>1.135925</td>\n",
              "      <td>-0.964384</td>\n",
              "      <td>-0.332916</td>\n",
              "      <td>0.794400</td>\n",
              "    </tr>\n",
              "    <tr>\n",
              "      <th>4</th>\n",
              "      <td>0.111993</td>\n",
              "      <td>0.834590</td>\n",
              "      <td>0.989244</td>\n",
              "      <td>0.030993</td>\n",
              "      <td>0.714936</td>\n",
              "      <td>0.175988</td>\n",
              "      <td>-0.964384</td>\n",
              "      <td>-0.332916</td>\n",
              "      <td>-1.255665</td>\n",
              "    </tr>\n",
              "  </tbody>\n",
              "</table>\n",
              "</div>"
            ],
            "text/plain": [
              "     Income     Limit    Rating  ...    Gender   Student   Married\n",
              "0 -0.393025 -1.259250 -1.246993  ...  1.034339 -0.332916  0.794400\n",
              "1  0.895553  0.537822  0.478658  ...  1.034339 -0.332916  0.794400\n",
              "2 -0.607925 -0.396240 -0.477883  ... -0.964384  2.996248  0.794400\n",
              "3  3.225208  2.969155  2.908790  ... -0.964384 -0.332916  0.794400\n",
              "4  0.111993  0.834590  0.989244  ... -0.964384 -0.332916 -1.255665\n",
              "\n",
              "[5 rows x 9 columns]"
            ]
          },
          "metadata": {
            "tags": []
          },
          "execution_count": 11
        }
      ]
    },
    {
      "cell_type": "markdown",
      "metadata": {
        "id": "r2_GWOfVY1i8"
      },
      "source": [
        "![Screen Shot 2020-10-22 at 6.15.08 PM.png](data:image/png;base64,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)"
      ]
    },
    {
      "cell_type": "code",
      "metadata": {
        "id": "6mzwOoUIGGDg"
      },
      "source": [
        "\n",
        "\n",
        "# Function for coordinate decent\n",
        "def cd_solver(X,y,lamb,alpha,iter=1000):\n",
        "  n_samples,n_features=X.shape\n",
        "  a=np.zeros(9) #  save Location for a\n",
        "  b=np.zeros(9) # save location for b\n",
        "  b=(X**2).sum(axis=0) # sum of bk\n",
        "  beta=np.random.uniform(-1,1,X.shape[1])\n",
        "  for i in range(iter):\n",
        "    #looping thru each coordinate\n",
        "    for k in range(n_features):\n",
        "      #vectorized implementation\n",
        "      X_k = X.iloc[:,k]# goes over every value in a row\n",
        "      xsbeta=np.dot(X,beta)\n",
        "      prediction=y-xsbeta\n",
        "     \n",
        "      a[k]= (X_k.T)@(prediction + beta[k]*X_k) # save ak for every value of k\n",
        "      \n",
        "      \n",
        "     \n",
        "      Bk=np.sign(a[k])*max(np.abs(a[k])-(lamb*(1-alpha))/2,0)\n",
        "      dem=b[k]+(lamb*alpha)\n",
        "      beta[k]=Bk/dem # save beta for every k\n",
        "      \n",
        "  return beta\n",
        "\n",
        "\n"
      ],
      "execution_count": 9,
      "outputs": []
    },
    {
      "cell_type": "markdown",
      "metadata": {
        "id": "5Yx_Mx6L5Rhq"
      },
      "source": [
        "#Deliverable 1: \n",
        "Illustrate the effect of the tuning parameter on the inferred elastic net regression coefficients by generating six plots (one for each 𝛼 value) of nine lines (one for\n",
        "̂\n",
        "each of the 𝑝 = 9 features), with the 𝑦-axis as 𝛽 , 𝑗 = 1,2,...,9, and the 𝑥-axis the\n",
        " ̂ corresponding log-scaled tuning parameter value log (𝜆) that generated the particular 𝛽 .\n",
        "10 𝑗 Label both axes in all six plots. Without the log scaling of the tuning parameter 𝜆, the plots\n",
        "will look distorted."
      ]
    },
    {
      "cell_type": "code",
      "metadata": {
        "id": "xlINdsVZUUtm"
      },
      "source": [
        "# Run Coordinate decent for ever lambda and alpha\n",
        "lambdas=[10**-2,10**-1,10**0,10**1,10**2,10**3,10**4,10**5,10**6]\n",
        "beta_list=[]\n",
        "\n",
        "    \n",
        "beta_list=[cd_solver(X,y,lamb,0) for lamb in lambdas] # alpha 0\n",
        "\n",
        "     \n",
        "      \n",
        "\n",
        "     \n"
      ],
      "execution_count": null,
      "outputs": []
    },
    {
      "cell_type": "code",
      "metadata": {
        "id": "_3rfOBGxa28L"
      },
      "source": [
        "betas=pd.DataFrame(beta_list)\n",
        "betas.index=lambdas"
      ],
      "execution_count": null,
      "outputs": []
    },
    {
      "cell_type": "code",
      "metadata": {
        "id": "JTzYqh53WerT"
      },
      "source": [
        "lambdas=[10**-2,10**-1,10**0,10**1,10**2,10**3,10**4,10**5,10**6]\n",
        "beta_list2=[] # save it to a list\n",
        "\n",
        "    \n",
        "beta_list2=[cd_solver(X,y,lamb,0.2) for lamb in lambdas] # alpha .2\n",
        "betas2=pd.DataFrame(beta_list2)#\n",
        "betas2.index=lambdas\n",
        "     \n",
        "      \n",
        "\n",
        "     \n"
      ],
      "execution_count": null,
      "outputs": []
    },
    {
      "cell_type": "code",
      "metadata": {
        "id": "2HrlOMz3XwBt"
      },
      "source": [
        "lambdas=[10**-2,10**-1,10**0,10**1,10**2,10**3,10**4,10**5,10**6]\n",
        "beta_list4=[] # save it to a list\n",
        "\n",
        "   \n",
        "\n",
        "beta_list4=[cd_solver(X,y,lamb,0.4) for lamb in lambdas] # alpha .4\n",
        "betas4=pd.DataFrame(beta_list4)\n",
        "betas4.index=lambdas\n",
        "     \n",
        "      \n",
        "\n",
        "     \n"
      ],
      "execution_count": null,
      "outputs": []
    },
    {
      "cell_type": "code",
      "metadata": {
        "id": "uPBYk0obZeY6"
      },
      "source": [
        "lambdas=[10**-2,10**-1,10**0,10**1,10**2,10**3,10**4,10**5,10**6]\n",
        "beta_list6=[]\n",
        "\n",
        "   \n",
        "\n",
        "beta_list6=[cd_solver(X,y,lamb,0.6) for lamb in lambdas] # alpha .6\n",
        "betas6=pd.DataFrame(beta_list6)\n",
        "betas6.index=lambdas\n",
        "     \n",
        "      \n",
        "\n",
        "     \n"
      ],
      "execution_count": null,
      "outputs": []
    },
    {
      "cell_type": "code",
      "metadata": {
        "id": "FeVTQShcZbpN"
      },
      "source": [
        ""
      ],
      "execution_count": null,
      "outputs": []
    },
    {
      "cell_type": "code",
      "metadata": {
        "id": "eW8jqHhraWC7"
      },
      "source": [
        "lambdas=[10**-2,10**-1,10**0,10**1,10**2,10**3,10**4,10**5,10**6]\n",
        "beta_list8=[]\n",
        "\n",
        "   \n",
        "\n",
        "beta_list8=[cd_solver(X,y,lamb,0.8) for lamb in lambdas] # alpha .8\n",
        "betas8=pd.DataFrame(beta_list8)\n",
        "betas8.index=lambdas\n",
        "     \n",
        "      \n",
        "\n",
        "     \n"
      ],
      "execution_count": null,
      "outputs": []
    },
    {
      "cell_type": "code",
      "metadata": {
        "id": "teNJdT-lamIz"
      },
      "source": [
        "lambdas=[10**-2,10**-1,10**0,10**1,10**2,10**3,10**4,10**5,10**6]\n",
        "beta_list1=[]\n",
        "\n",
        "   \n",
        "\n",
        "beta_list1=[cd_solver(X,y,lamb,1) for lamb in lambdas] # alpha 1\n",
        "betas1=pd.DataFrame(beta_list1)\n",
        "betas1.index=lambdas\n",
        "     \n",
        "      \n",
        "\n",
        "     \n"
      ],
      "execution_count": null,
      "outputs": []
    },
    {
      "cell_type": "code",
      "metadata": {
        "id": "varpCFOdWBi1",
        "colab": {
          "base_uri": "https://localhost:8080/",
          "height": 614
        },
        "outputId": "1c3e63c6-5f5c-4b5b-d11a-e947f8f81620"
      },
      "source": [
        "# creates a sub plot of all alpha values\n",
        "plt.figure(figsize=(12,12))\n",
        "\n",
        "\n",
        "\n",
        "plt.subplot(3,3,1)\n",
        "plt.title('Alpha = 0',fontsize=14)\n",
        "plt.plot(betas)\n",
        "plt.xscale('log')\n",
        "plt.xlabel('$\\lambda$')\n",
        "\n",
        "plt.subplot(3,3,2)\n",
        "plt.title('Alpha = .02',fontsize=14)\n",
        "plt.plot(betas2)\n",
        "plt.xscale('log')\n",
        "plt.xlabel('$\\lambda$')\n",
        "\n",
        "plt.subplot(3,3,3)\n",
        "plt.title('Alpha = .4',fontsize=14)\n",
        "plt.plot(betas4)\n",
        "plt.xscale('log')\n",
        "plt.xlabel('$\\lambda$')\n",
        "\n",
        "plt.subplot(3,3,4)\n",
        "plt.title('Alpha = .6')\n",
        "plt.plot(betas6)\n",
        "plt.xscale('log')\n",
        "plt.xlabel('$\\lambda$')\n",
        "\n",
        "plt.subplot(3,3,5)\n",
        "plt.title('Alpha = .8')\n",
        "plt.plot(betas8)\n",
        "plt.xscale('log')\n",
        "plt.xlabel(\"$\\lambda$\")\n",
        "\n",
        "plt.subplot(3,3,6)\n",
        "plt.title('Alpha = 1')\n",
        "plt.plot(betas1)\n",
        "plt.xscale('log')\n",
        "plt.xlabel('$\\lambda$')\n",
        "\n",
        "plt.tight_layout()\n",
        "plt.show()"
      ],
      "execution_count": null,
      "outputs": [
        {
          "output_type": "display_data",
          "data": {
            "image/png": "[encoded data removed]",
            "text/plain": [
              "<Figure size 864x864 with 6 Axes>"
            ]
          },
          "metadata": {
            "tags": [],
            "needs_background": "light"
          }
        }
      ]
    },
    {
      "cell_type": "markdown",
      "metadata": {
        "id": "0cZr-bUF8yNR"
      },
      "source": [
        "#Deliverable 2: \n",
        "Illustrate the effect of the tuning parameters on the cross validation error by generating a plot of six lines (one for each 𝛼 value) with the 𝑦-axis as CV error, and the 𝑥-\n",
        "axis the corresponding log-scaled tuning parameter value log10(𝜆) that generated the\n",
        "particular CV error. Label both axes in the plot. Without the log scaling of the tuning (5)\n",
        "parameter 𝜆, the plots will look distorted."
      ]
    },
    {
      "cell_type": "code",
      "metadata": {
        "id": "9iSXtdVQT9oL"
      },
      "source": [
        "df=credit.sample(frac=1).reset_index(drop=True) # random sample and reset index to the old one"
      ],
      "execution_count": null,
      "outputs": []
    },
    {
      "cell_type": "code",
      "metadata": {
        "id": "k-IQDN-cA9Ia"
      },
      "source": [
        " # Make a function for split\n",
        " def cross_split(X,y,numfold):\n",
        "      \n",
        "       \n",
        "       # Step 1 split the data 80/20\n",
        "       validation = df[numfold*80:((numfold+1)*80)]\n",
        "       train = pd.concat([df[:numfold*80],df[((numfold+1)*80):]])\n",
        "       \n",
        "       # Select training the data and drop Balance response variable     \n",
        "       rX_train=train.drop(['Balance'],axis=1)\n",
        "       ry_train=train['Balance']\n",
        "       # Step 2 Centralize and standardize the data\n",
        "       X_train=(rX_train-rX_train.mean())/rX_train.std()\n",
        "       y_train=ry_train-ry_train.mean()\n",
        "       # Select validation data and drop the response variable\n",
        "       rX_val=validation.drop(['Balance'],axis=1)\n",
        "       ry_val=validation['Balance']\n",
        "       # centralize and standardize the data\n",
        "       X_val=(rX_val-rX_train.mean())/rX_train.std()\n",
        "       y_val=ry_val-ry_train.mean()\n",
        "       \n",
        "       return X_train,y_train,X_val,y_val\n"
      ],
      "execution_count": null,
      "outputs": []
    },
    {
      "cell_type": "code",
      "metadata": {
        "id": "Rvn3Y8lM9lTK"
      },
      "source": [
        "# Create function to predict for MSE later on\n",
        "def predict(val,beta):\n",
        "  prediction=np.dot(val,beta)\n",
        "  return prediction"
      ],
      "execution_count": null,
      "outputs": []
    },
    {
      "cell_type": "code",
      "metadata": {
        "id": "GQrvlR949oRD"
      },
      "source": [
        "# create the MSE function to be used after coordinate decent\n",
        "def mse(y_true,y_pred):\n",
        "  error=(np.sum((y_true-y_pred)**2))/len(y_true)\n",
        "  return error"
      ],
      "execution_count": null,
      "outputs": []
    },
    {
      "cell_type": "code",
      "metadata": {
        "id": "tw39_UjlQ6kY"
      },
      "source": [
        "\n",
        "error_list=[]\n",
        "\n",
        "\n",
        "# step 3 apply coordinate decent to training values\n",
        "\n",
        "for i in range(5): # Use the cross split to extract the 5 folds\n",
        "   X_train,y_train,X_val,y_val=cross_split(X,y,i)\n",
        "   \n",
        "   for lamb in lambdas:\n",
        "      \n",
        "   \n",
        "\n",
        "        # apply coordinate to training data\n",
        "       beta=cd_solver(X_train,y_train,lamb,0)\n",
        "          \n",
        "      \n",
        "  \n",
        "# step 4 apply MSE      \n",
        "# apply MSE to the validation data and create a list       \n",
        "# MSE formula \n",
        "       prediction=predict(X_val,beta)\n",
        "       error=mse(y_val,prediction)\n",
        "       error_list.append(error)\n",
        "       errorlist=pd.DataFrame(error_list)\n",
        "       \n",
        "       \n",
        "       \n",
        "        \n",
        "      \n",
        "   \n",
        "      \n",
        "      \n",
        "     \n"
      ],
      "execution_count": null,
      "outputs": []
    },
    {
      "cell_type": "code",
      "metadata": {
        "id": "huakpGWpA4uL",
        "colab": {
          "base_uri": "https://localhost:8080/",
          "height": 187
        },
        "outputId": "c5bfb5d7-bab5-484c-fd57-42a9d6947d49"
      },
      "source": [
        "error1=(error_list[0]+error_list[9]+error_list[18]+error_list[27]+error_list[36])/5\n",
        "error2=(error_list[1]+error_list[10]+error_list[19]+error_list[28]+error_list[37])/5\n",
        "error3=(error_list[2]+error_list[11]+error_list[20]+error_list[29]+error_list[38])/5\n",
        "error4=(error_list[3]+error_list[12]+error_list[21]+error_list[30]+error_list[39])/5\n",
        "error5=(error_list[4]+error_list[13]+error_list[22]+error_list[31]+error_list[40])/5\n",
        "error6=(error_list[5]+error_list[14]+error_list[23]+error_list[32]+error_list[41])/5\n",
        "error7=(error_list[6]+error_list[15]+error_list[24]+error_list[33]+error_list[42])/5\n",
        "error8=(error_list[7]+error_list[16]+error_list[25]+error_list[34]+error_list[43])/5\n",
        "error9=(error_list[8]+error_list[17]+error_list[26]+error_list[35]+error_list[44])/5\n",
        "\n",
        "error_avg=[error1,error2,error3,error4,error5,error6,error7,error8,error9]\n",
        "errors=pd.DataFrame(error_avg)\n",
        "print(errors)"
      ],
      "execution_count": null,
      "outputs": [
        {
          "output_type": "stream",
          "text": [
            "               0\n",
            "0    9918.772928\n",
            "1    9918.776747\n",
            "2    9918.754289\n",
            "3    9918.543578\n",
            "4    9916.937938\n",
            "5    9937.525704\n",
            "6   13078.915563\n",
            "7   78571.157094\n",
            "8  211837.834453\n"
          ],
          "name": "stdout"
        }
      ]
    },
    {
      "cell_type": "code",
      "metadata": {
        "id": "AZnBicfbwwem"
      },
      "source": [
        "\n",
        "error_list2=[]\n",
        "\n",
        "\n",
        "# step 3 apply gradient decent to training values\n",
        "\n",
        "for i in range(5): # Use the cross split to extract the 5 folds\n",
        "   X_train,y_train,X_val,y_val=cross_split(X,y,i)\n",
        "   #print(X_train)\n",
        "   for lamb in lambdas:\n",
        "       \n",
        "   \n",
        " # loop to go over the seven lambdas \n",
        "        # apply coordinate to training data\n",
        "       beta=cd_solver(X_train,y_train,lamb,.2)\n",
        "          \n",
        "      \n",
        "  \n",
        "# step 4 apply MSE      \n",
        "# apply MSE to the validation data and create a list       \n",
        "# MSE formula \n",
        "       prediction=predict(X_val,beta)\n",
        "       error=mse(y_val,prediction)\n",
        "       error_list2.append(error)\n",
        "       \n",
        "       \n",
        "       \n",
        "        \n",
        "      \n",
        "   \n",
        "      \n",
        "      \n",
        "     \n"
      ],
      "execution_count": null,
      "outputs": []
    },
    {
      "cell_type": "code",
      "metadata": {
        "id": "DiXlfCOCxttw",
        "colab": {
          "base_uri": "https://localhost:8080/",
          "height": 187
        },
        "outputId": "8f5ea30b-7998-4fe1-b282-3dd68448be40"
      },
      "source": [
        "error1=(error_list2[0]+error_list2[9]+error_list2[18]+error_list2[27]+error_list2[36])/5\n",
        "error2=(error_list2[1]+error_list2[10]+error_list2[19]+error_list2[28]+error_list2[37])/5\n",
        "error3=(error_list2[2]+error_list2[11]+error_list2[20]+error_list2[29]+error_list2[38])/5\n",
        "error4=(error_list2[3]+error_list2[12]+error_list2[21]+error_list2[30]+error_list2[39])/5\n",
        "error5=(error_list2[4]+error_list2[13]+error_list2[22]+error_list2[31]+error_list2[40])/5\n",
        "error6=(error_list2[5]+error_list2[14]+error_list2[23]+error_list2[32]+error_list2[41])/5\n",
        "error7=(error_list2[6]+error_list2[15]+error_list2[24]+error_list2[33]+error_list2[42])/5\n",
        "error8=(error_list2[7]+error_list2[16]+error_list2[25]+error_list2[34]+error_list2[43])/5\n",
        "error9=(error_list2[8]+error_list2[17]+error_list2[26]+error_list2[35]+error_list2[44])/5\n",
        "\n",
        "error_avg2=[error1,error2,error3,error4,error5,error6,error7,error8,error9]\n",
        "errors_2=pd.DataFrame(error_avg2)\n",
        "print(errors_2)"
      ],
      "execution_count": null,
      "outputs": [
        {
          "output_type": "stream",
          "text": [
            "               0\n",
            "0    9918.700860\n",
            "1    9918.162807\n",
            "2    9918.853734\n",
            "3   10000.906101\n",
            "4   12561.784756\n",
            "5   47663.058681\n",
            "6  140814.195355\n",
            "7  204733.285238\n",
            "8  211837.834453\n"
          ],
          "name": "stdout"
        }
      ]
    },
    {
      "cell_type": "code",
      "metadata": {
        "id": "pn1jopLKzOpa"
      },
      "source": [
        " \n",
        "#lambdas=[10**-2,10**-1,10**0,10**1,10**2,10**3,10**4,10**5,10**6]\n",
        "error_list4=[]\n",
        "\n",
        "\n",
        "# step 3 apply gradient decent to training values\n",
        "\n",
        "for i in range(5): # Use the cross split to extract the 5 folds\n",
        "   X_train,y_train,X_val,y_val=cross_split(X,y,i)\n",
        "   \n",
        "   for lamb in lambdas:\n",
        "    \n",
        "   \n",
        " \n",
        "        # apply coordinate to training data\n",
        "       beta=cd_solver(X_train,y_train,lamb,.4)\n",
        "          #beta=betahat\n",
        "      \n",
        "  \n",
        "# step 4 apply MSE      \n",
        "# apply MSE to the validation data and create a list       \n",
        "# MSE formula \n",
        "       prediction=predict(X_val,beta)\n",
        "       error=mse(y_val,prediction)\n",
        "       error_list4.append(error)\n",
        "       #print(error_list4)\n",
        "       \n",
        "       \n",
        "        \n",
        "      \n",
        "   \n",
        "      \n",
        "      \n",
        "     \n"
      ],
      "execution_count": null,
      "outputs": []
    },
    {
      "cell_type": "code",
      "metadata": {
        "id": "j1Nvw7G0ziNt",
        "colab": {
          "base_uri": "https://localhost:8080/",
          "height": 187
        },
        "outputId": "83ad958d-14ec-47c3-8209-6a7c8cf974c2"
      },
      "source": [
        "error1=(error_list4[0]+error_list4[9]+error_list4[18]+error_list4[27]+error_list4[36])/5\n",
        "error2=(error_list4[1]+error_list4[10]+error_list4[19]+error_list4[28]+error_list4[37])/5\n",
        "error3=(error_list4[2]+error_list4[11]+error_list4[20]+error_list4[29]+error_list4[38])/5\n",
        "error4=(error_list4[3]+error_list4[12]+error_list4[21]+error_list4[30]+error_list4[39])/5\n",
        "error5=(error_list4[4]+error_list4[13]+error_list4[22]+error_list4[31]+error_list4[40])/5\n",
        "error6=(error_list4[5]+error_list4[14]+error_list4[23]+error_list4[32]+error_list4[41])/5\n",
        "error7=(error_list4[6]+error_list4[15]+error_list4[24]+error_list4[33]+error_list4[42])/5\n",
        "error8=(error_list4[7]+error_list4[16]+error_list4[25]+error_list4[34]+error_list4[43])/5\n",
        "error9=(error_list4[8]+error_list4[17]+error_list4[26]+error_list4[35]+error_list4[44])/5\n",
        "\n",
        "error_avg4=[error1,error2,error3,error4,error5,error6,error7,error8,error9]\n",
        "errors_4=pd.DataFrame(error_avg4)\n",
        "print(errors_4)"
      ],
      "execution_count": null,
      "outputs": [
        {
          "output_type": "stream",
          "text": [
            "               0\n",
            "0    9918.639085\n",
            "1    9917.740498\n",
            "2    9925.317227\n",
            "3   10130.933662\n",
            "4   17091.212060\n",
            "5   69227.640643\n",
            "6  167472.680877\n",
            "7  207679.437355\n",
            "8  211837.834453\n"
          ],
          "name": "stdout"
        }
      ]
    },
    {
      "cell_type": "code",
      "metadata": {
        "id": "yn-ex5-f0H74"
      },
      "source": [
        "\n",
        "\n",
        "error_list6=[]\n",
        "\n",
        "\n",
        "# step 3 apply gradient decent to training values\n",
        "\n",
        "for i in range(5): # Use the cross split to extract the 5 folds\n",
        "   X_train,y_train,X_val,y_val=cross_split(X,y,i)\n",
        " \n",
        "   for lamb in lambdas:\n",
        "  \n",
        "   \n",
        " \n",
        "       # apply coordinate to training data\n",
        "       beta=cd_solver(X_train,y_train,lamb,.6)\n",
        "        \n",
        "      \n",
        "  \n",
        "# step 4 apply MSE      \n",
        "# apply MSE to the validation data and create a list       \n",
        "# MSE formula \n",
        "       prediction=predict(X_val,beta)\n",
        "       error=mse(y_val,prediction)\n",
        "       error_list6.append(error)\n",
        "       #print(error_list6)\n",
        "       \n",
        "       \n",
        "        \n",
        "      \n",
        "   \n",
        "      \n",
        "      \n",
        "     \n"
      ],
      "execution_count": null,
      "outputs": []
    },
    {
      "cell_type": "code",
      "metadata": {
        "id": "9mH_7tA40ZdE",
        "colab": {
          "base_uri": "https://localhost:8080/",
          "height": 187
        },
        "outputId": "b5939c52-d0c7-4e1e-e389-70e114290ea7"
      },
      "source": [
        "error1=(error_list6[0]+error_list6[9]+error_list6[18]+error_list6[27]+error_list6[36])/5\n",
        "error2=(error_list6[1]+error_list6[10]+error_list6[19]+error_list6[28]+error_list6[37])/5\n",
        "error3=(error_list6[2]+error_list6[11]+error_list6[20]+error_list6[29]+error_list6[38])/5\n",
        "error4=(error_list6[3]+error_list6[12]+error_list6[21]+error_list6[30]+error_list6[39])/5\n",
        "error5=(error_list6[4]+error_list6[13]+error_list6[22]+error_list6[31]+error_list6[40])/5\n",
        "error6=(error_list6[5]+error_list6[14]+error_list6[23]+error_list6[32]+error_list6[41])/5\n",
        "error7=(error_list6[6]+error_list6[15]+error_list6[24]+error_list6[33]+error_list6[42])/5\n",
        "error8=(error_list6[7]+error_list6[16]+error_list6[25]+error_list6[34]+error_list6[43])/5\n",
        "error9=(error_list6[8]+error_list6[17]+error_list6[26]+error_list6[35]+error_list6[44])/5\n",
        "\n",
        "error_avg6=[error1,error2,error3,error4,error5,error6,error7,error8,error9]\n",
        "errors_6=pd.DataFrame(error_avg6)\n",
        "print(errors_6)"
      ],
      "execution_count": null,
      "outputs": [
        {
          "output_type": "stream",
          "text": [
            "               0\n",
            "0    9918.559986\n",
            "1    9917.492068\n",
            "2    9933.507128\n",
            "3   10308.337900\n",
            "4   21853.674245\n",
            "5   84691.981841\n",
            "6  179443.592991\n",
            "7  208671.990680\n",
            "8  211837.834453\n"
          ],
          "name": "stdout"
        }
      ]
    },
    {
      "cell_type": "code",
      "metadata": {
        "id": "LaBcWfBH1QuV"
      },
      "source": [
        "\n",
        "\n",
        "error_list8=[]\n",
        "\n",
        "\n",
        "# step 3 apply gradient decent to training values\n",
        "\n",
        "for i in range(5): # Use the cross split to extract the 5 folds\n",
        "   X_train,y_train,X_val,y_val=cross_split(X,y,i)\n",
        "   \n",
        "   for lamb in lambdas:\n",
        "       \n",
        "   \n",
        " \n",
        "        # apply coordinate to training data\n",
        "        beta=cd_solver(X_train,y_train,lamb,.8)\n",
        "          \n",
        "      \n",
        "  \n",
        "# step 4 apply MSE      \n",
        "# apply MSE to the validation data and create a list       \n",
        "# MSE formula \n",
        "        prediction=predict(X_val,beta)\n",
        "        error=mse(y_val,prediction)\n",
        "        error_list8.append(error)\n",
        "       \n",
        "       \n",
        "       \n",
        "        \n",
        "      \n",
        "   \n",
        "      \n",
        "      \n",
        "     \n"
      ],
      "execution_count": null,
      "outputs": []
    },
    {
      "cell_type": "code",
      "metadata": {
        "id": "SXwUIIPO1fAX",
        "colab": {
          "base_uri": "https://localhost:8080/",
          "height": 187
        },
        "outputId": "f0afad6a-35b9-4b54-c526-59f491b84b41"
      },
      "source": [
        "error1=(error_list8[0]+error_list8[9]+error_list8[18]+error_list8[27]+error_list8[36])/5\n",
        "error2=(error_list8[1]+error_list8[10]+error_list8[19]+error_list8[28]+error_list8[37])/5\n",
        "error3=(error_list8[2]+error_list8[11]+error_list8[20]+error_list8[29]+error_list8[38])/5\n",
        "error4=(error_list8[3]+error_list8[12]+error_list8[21]+error_list8[30]+error_list8[39])/5\n",
        "error5=(error_list8[4]+error_list8[13]+error_list8[22]+error_list8[31]+error_list8[40])/5\n",
        "error6=(error_list8[5]+error_list8[14]+error_list8[23]+error_list8[32]+error_list8[41])/5\n",
        "error7=(error_list8[6]+error_list8[15]+error_list8[24]+error_list8[33]+error_list8[42])/5\n",
        "error8=(error_list8[7]+error_list8[16]+error_list8[25]+error_list8[34]+error_list8[43])/5\n",
        "error9=(error_list8[8]+error_list8[17]+error_list8[26]+error_list8[35]+error_list8[44])/5\n",
        "\n",
        "error_avg8=[error1,error2,error3,error4,error5,error6,error7,error8,error9]\n",
        "errors_8=pd.DataFrame(error_avg8)\n",
        "print(errors_8)"
      ],
      "execution_count": null,
      "outputs": [
        {
          "output_type": "stream",
          "text": [
            "               0\n",
            "0    9918.498766\n",
            "1    9917.391209\n",
            "2    9942.264899\n",
            "3   10530.167216\n",
            "4   26384.511984\n",
            "5   96832.393556\n",
            "6  186238.345959\n",
            "7  209172.338922\n",
            "8  211785.244803\n"
          ],
          "name": "stdout"
        }
      ]
    },
    {
      "cell_type": "code",
      "metadata": {
        "id": "NwBNxRMg1-Gd"
      },
      "source": [
        "\n",
        "error_list1=[]\n",
        "\n",
        "\n",
        "# step 3 apply coordinate decent to training values\n",
        "\n",
        "for i in range(5): # Use the cross split to extract the 5 folds\n",
        "   X_train,y_train,X_val,y_val=cross_split(X,y,i)\n",
        "   #print(X_train)\n",
        "   for lamb in lambdas:\n",
        "       \n",
        "   \n",
        " \n",
        "        # apply coordinate to training data\n",
        "       beta=cd_solver(X_train,y_train,lamb,1)\n",
        "          #beta=betahat\n",
        "      \n",
        "  \n",
        "# step 4 apply MSE      \n",
        "# apply MSE to the validation data and create a list       \n",
        "# MSE formula \n",
        "       prediction=predict(X_val,beta)\n",
        "       error=mse(y_val,prediction)\n",
        "       error_list1.append(error)\n",
        "       #print(error_list1)\n",
        "       \n",
        "       \n",
        "        \n",
        "      \n",
        "   \n",
        "      \n",
        "      \n",
        "     \n"
      ],
      "execution_count": null,
      "outputs": []
    },
    {
      "cell_type": "code",
      "metadata": {
        "id": "hO7RmScw2IL5",
        "colab": {
          "base_uri": "https://localhost:8080/",
          "height": 187
        },
        "outputId": "33f18064-0ff5-4f92-f0bd-45cbd0b8e234"
      },
      "source": [
        "error1=(error_list1[0]+error_list1[9]+error_list1[18]+error_list1[27]+error_list1[36])/5\n",
        "error2=(error_list1[1]+error_list1[10]+error_list1[19]+error_list1[28]+error_list1[37])/5\n",
        "error3=(error_list1[2]+error_list1[11]+error_list1[20]+error_list1[29]+error_list1[38])/5\n",
        "error4=(error_list1[3]+error_list1[12]+error_list1[21]+error_list1[30]+error_list1[39])/5\n",
        "error5=(error_list1[4]+error_list1[13]+error_list1[22]+error_list1[31]+error_list1[40])/5\n",
        "error6=(error_list1[5]+error_list1[14]+error_list1[23]+error_list1[32]+error_list1[41])/5\n",
        "error7=(error_list1[6]+error_list1[15]+error_list1[24]+error_list1[33]+error_list1[42])/5\n",
        "error8=(error_list1[7]+error_list1[16]+error_list1[25]+error_list1[34]+error_list1[43])/5\n",
        "error9=(error_list1[8]+error_list1[17]+error_list1[26]+error_list1[35]+error_list1[44])/5\n",
        "\n",
        "error_avg1=[error1,error2,error3,error4,error5,error6,error7,error8,error9]\n",
        "errors_1=pd.DataFrame(error_avg1)\n",
        "print(errors_1)"
      ],
      "execution_count": null,
      "outputs": [
        {
          "output_type": "stream",
          "text": [
            "               0\n",
            "0    9918.437134\n",
            "1    9917.408047\n",
            "2    9951.297836\n",
            "3   10791.415025\n",
            "4   30573.407561\n",
            "5  106773.765009\n",
            "6  190613.063283\n",
            "7  209482.103208\n",
            "8  211599.661128\n"
          ],
          "name": "stdout"
        }
      ]
    },
    {
      "cell_type": "code",
      "metadata": {
        "id": "6hTeUBpo-hDE",
        "colab": {
          "base_uri": "https://localhost:8080/",
          "height": 328
        },
        "outputId": "23f91aec-2c34-42d3-f6cc-c8993226fd7f"
      },
      "source": [
        "# List of all the error in the CV by alpha values\n",
        "errors_pd=pd.concat([errors,errors_2,errors_4,errors_6,errors_8,errors_1],axis=1)\n",
        "errors_pd.columns=['Alpha=0','Alpha=.2','Alpha=.4','Alpha=.6','Alpha=.8','Alpha=1']\n",
        "errors_pd=errors_pd.rename(index={0:'10**-2',1:'10**-1',2:'10**0',3:'10**1',4:'10**2',5:'10**3',6:'10**4',7:'10**5',8:'10**6'})\n",
        "\n",
        "errors_pd"
      ],
      "execution_count": null,
      "outputs": [
        {
          "output_type": "execute_result",
          "data": {
            "text/html": [
              "<div>\n",
              "<style scoped>\n",
              "    .dataframe tbody tr th:only-of-type {\n",
              "        vertical-align: middle;\n",
              "    }\n",
              "\n",
              "    .dataframe tbody tr th {\n",
              "        vertical-align: top;\n",
              "    }\n",
              "\n",
              "    .dataframe thead th {\n",
              "        text-align: right;\n",
              "    }\n",
              "</style>\n",
              "<table border=\"1\" class=\"dataframe\">\n",
              "  <thead>\n",
              "    <tr style=\"text-align: right;\">\n",
              "      <th></th>\n",
              "      <th>Alpha=0</th>\n",
              "      <th>Alpha=.2</th>\n",
              "      <th>Alpha=.4</th>\n",
              "      <th>Alpha=.6</th>\n",
              "      <th>Alpha=.8</th>\n",
              "      <th>Alpha=1</th>\n",
              "    </tr>\n",
              "  </thead>\n",
              "  <tbody>\n",
              "    <tr>\n",
              "      <th>10**-2</th>\n",
              "      <td>9918.772928</td>\n",
              "      <td>9918.700860</td>\n",
              "      <td>9918.639085</td>\n",
              "      <td>9918.559986</td>\n",
              "      <td>9918.498766</td>\n",
              "      <td>9918.437134</td>\n",
              "    </tr>\n",
              "    <tr>\n",
              "      <th>10**-1</th>\n",
              "      <td>9918.776747</td>\n",
              "      <td>9918.162807</td>\n",
              "      <td>9917.740498</td>\n",
              "      <td>9917.492068</td>\n",
              "      <td>9917.391209</td>\n",
              "      <td>9917.408047</td>\n",
              "    </tr>\n",
              "    <tr>\n",
              "      <th>10**0</th>\n",
              "      <td>9918.754289</td>\n",
              "      <td>9918.853734</td>\n",
              "      <td>9925.317227</td>\n",
              "      <td>9933.507128</td>\n",
              "      <td>9942.264899</td>\n",
              "      <td>9951.297836</td>\n",
              "    </tr>\n",
              "    <tr>\n",
              "      <th>10**1</th>\n",
              "      <td>9918.543578</td>\n",
              "      <td>10000.906101</td>\n",
              "      <td>10130.933662</td>\n",
              "      <td>10308.337900</td>\n",
              "      <td>10530.167216</td>\n",
              "      <td>10791.415025</td>\n",
              "    </tr>\n",
              "    <tr>\n",
              "      <th>10**2</th>\n",
              "      <td>9916.937938</td>\n",
              "      <td>12561.784756</td>\n",
              "      <td>17091.212060</td>\n",
              "      <td>21853.674245</td>\n",
              "      <td>26384.511984</td>\n",
              "      <td>30573.407561</td>\n",
              "    </tr>\n",
              "    <tr>\n",
              "      <th>10**3</th>\n",
              "      <td>9937.525704</td>\n",
              "      <td>47663.058681</td>\n",
              "      <td>69227.640643</td>\n",
              "      <td>84691.981841</td>\n",
              "      <td>96832.393556</td>\n",
              "      <td>106773.765009</td>\n",
              "    </tr>\n",
              "    <tr>\n",
              "      <th>10**4</th>\n",
              "      <td>13078.915563</td>\n",
              "      <td>140814.195355</td>\n",
              "      <td>167472.680877</td>\n",
              "      <td>179443.592991</td>\n",
              "      <td>186238.345959</td>\n",
              "      <td>190613.063283</td>\n",
              "    </tr>\n",
              "    <tr>\n",
              "      <th>10**5</th>\n",
              "      <td>78571.157094</td>\n",
              "      <td>204733.285238</td>\n",
              "      <td>207679.437355</td>\n",
              "      <td>208671.990680</td>\n",
              "      <td>209172.338922</td>\n",
              "      <td>209482.103208</td>\n",
              "    </tr>\n",
              "    <tr>\n",
              "      <th>10**6</th>\n",
              "      <td>211837.834453</td>\n",
              "      <td>211837.834453</td>\n",
              "      <td>211837.834453</td>\n",
              "      <td>211837.834453</td>\n",
              "      <td>211785.244803</td>\n",
              "      <td>211599.661128</td>\n",
              "    </tr>\n",
              "  </tbody>\n",
              "</table>\n",
              "</div>"
            ],
            "text/plain": [
              "              Alpha=0       Alpha=.2  ...       Alpha=.8        Alpha=1\n",
              "10**-2    9918.772928    9918.700860  ...    9918.498766    9918.437134\n",
              "10**-1    9918.776747    9918.162807  ...    9917.391209    9917.408047\n",
              "10**0     9918.754289    9918.853734  ...    9942.264899    9951.297836\n",
              "10**1     9918.543578   10000.906101  ...   10530.167216   10791.415025\n",
              "10**2     9916.937938   12561.784756  ...   26384.511984   30573.407561\n",
              "10**3     9937.525704   47663.058681  ...   96832.393556  106773.765009\n",
              "10**4    13078.915563  140814.195355  ...  186238.345959  190613.063283\n",
              "10**5    78571.157094  204733.285238  ...  209172.338922  209482.103208\n",
              "10**6   211837.834453  211837.834453  ...  211785.244803  211599.661128\n",
              "\n",
              "[9 rows x 6 columns]"
            ]
          },
          "metadata": {
            "tags": []
          },
          "execution_count": 55
        }
      ]
    },
    {
      "cell_type": "code",
      "metadata": {
        "id": "ulXiPhQsJLdY",
        "colab": {
          "base_uri": "https://localhost:8080/",
          "height": 136
        },
        "outputId": "0b65f062-c060-4042-8d66-2c6f6f324716"
      },
      "source": [
        "errors_pd.idxmin() # Find the min values of each alpha "
      ],
      "execution_count": null,
      "outputs": [
        {
          "output_type": "execute_result",
          "data": {
            "text/plain": [
              "Alpha=0      10**2\n",
              "Alpha=.2    10**-1\n",
              "Alpha=.4    10**-1\n",
              "Alpha=.6    10**-1\n",
              "Alpha=.8    10**-1\n",
              "Alpha=1     10**-1\n",
              "dtype: object"
            ]
          },
          "metadata": {
            "tags": []
          },
          "execution_count": 56
        }
      ]
    },
    {
      "cell_type": "code",
      "metadata": {
        "id": "WUv-KItJEhqN",
        "colab": {
          "base_uri": "https://localhost:8080/",
          "height": 136
        },
        "outputId": "3929dbd5-6bbb-4799-ee98-b4f59d8d6856"
      },
      "source": [
        "#minimun values of the CV error\n",
        "print(errors_pd.min())"
      ],
      "execution_count": null,
      "outputs": [
        {
          "output_type": "stream",
          "text": [
            "Alpha=0     9916.937938\n",
            "Alpha=.2    9918.162807\n",
            "Alpha=.4    9917.740498\n",
            "Alpha=.6    9917.492068\n",
            "Alpha=.8    9917.391209\n",
            "Alpha=1     9917.408047\n",
            "dtype: float64\n"
          ],
          "name": "stdout"
        }
      ]
    },
    {
      "cell_type": "code",
      "metadata": {
        "id": "N3PAHHVKwd6E",
        "colab": {
          "base_uri": "https://localhost:8080/",
          "height": 285
        },
        "outputId": "a3cfed3e-69d4-46c1-8b2d-5e092941160c"
      },
      "source": [
        "  plt.plot(lambdas,error_avg,label='alpha=0')\n",
        "  plt.plot(lambdas,error_avg2,label='alpha=1/5')\n",
        "  plt.plot(lambdas,error_avg4,label='alpha=2/5')\n",
        "  plt.plot(lambdas,error_avg6,label='alpha=3/5')\n",
        "  plt.plot(lambdas,error_avg8,label='alpha=4/5')\n",
        "  plt.plot(lambdas,error_avg1,label='alpha=1')\n",
        "  plt.xscale('log')\n",
        "  plt.xlabel('$\\lambda$')\n",
        "  plt.legend()\n",
        "  plt.show()"
      ],
      "execution_count": null,
      "outputs": [
        {
          "output_type": "display_data",
          "data": {
            "image/png": "[encoded data removed]",
            "text/plain": [
              "<Figure size 432x288 with 1 Axes>"
            ]
          },
          "metadata": {
            "tags": [],
            "needs_background": "light"
          }
        }
      ]
    },
    {
      "cell_type": "markdown",
      "metadata": {
        "id": "klUGZU4AFXYg"
      },
      "source": [
        "\n",
        "#Deliverable 3: \n",
        "Indicate the pair of values 𝜆 and 𝛼 that generated the smallest CV error.\n",
        "The smallest alpha= 0 and the smallest lambda= 10^2."
      ]
    },
    {
      "cell_type": "markdown",
      "metadata": {
        "id": "l6wre20HFp4C"
      },
      "source": [
        "#Deliverable 4: \n",
        "Given the optimal 𝜆 and 𝛼 pair, retrain your model on the entire dataset of 𝑁 = 400 observations and provide the estimates of the 𝑝 = 9 best-fit model parameters. How do these estimates compare to the estimates obtained from ridge regression (𝛼 = 1 under optimal 𝜆 for 𝛼=1) and lasso (𝛼=0 under optimal 𝜆 for 𝛼 =0) on the entire dataset of 𝑁 = 400 observations?"
      ]
    },
    {
      "cell_type": "code",
      "metadata": {
        "id": "tuvQ8hakvZCO",
        "colab": {
          "base_uri": "https://localhost:8080/",
          "height": 80
        },
        "outputId": "b8fde9e5-7285-4d6b-fb60-89e15fa10924"
      },
      "source": [
        "# Optimal values for lasso  this is also the optimal values  for cv\n",
        "lambdas=[10**2]\n",
        "beta_final=[]\n",
        "\n",
        "   \n",
        "\n",
        "beta_final=[cd_solver(X,y,lamb,0) for lamb in lambdas] \n",
        "betas_final=pd.DataFrame(beta_final)\n",
        "betas_final\n",
        "     \n",
        "      \n",
        "\n",
        "     \n"
      ],
      "execution_count": null,
      "outputs": [
        {
          "output_type": "execute_result",
          "data": {
            "text/html": [
              "<div>\n",
              "<style scoped>\n",
              "    .dataframe tbody tr th:only-of-type {\n",
              "        vertical-align: middle;\n",
              "    }\n",
              "\n",
              "    .dataframe tbody tr th {\n",
              "        vertical-align: top;\n",
              "    }\n",
              "\n",
              "    .dataframe thead th {\n",
              "        text-align: right;\n",
              "    }\n",
              "</style>\n",
              "<table border=\"1\" class=\"dataframe\">\n",
              "  <thead>\n",
              "    <tr style=\"text-align: right;\">\n",
              "      <th></th>\n",
              "      <th>0</th>\n",
              "      <th>1</th>\n",
              "      <th>2</th>\n",
              "      <th>3</th>\n",
              "      <th>4</th>\n",
              "      <th>5</th>\n",
              "      <th>6</th>\n",
              "      <th>7</th>\n",
              "      <th>8</th>\n",
              "    </tr>\n",
              "  </thead>\n",
              "  <tbody>\n",
              "    <tr>\n",
              "      <th>0</th>\n",
              "      <td>-7.248001</td>\n",
              "      <td>0.296719</td>\n",
              "      <td>-0.67357</td>\n",
              "      <td>10.047447</td>\n",
              "      <td>-2.546315</td>\n",
              "      <td>-15.935191</td>\n",
              "      <td>-9.777218</td>\n",
              "      <td>417.372676</td>\n",
              "      <td>-30.397389</td>\n",
              "    </tr>\n",
              "  </tbody>\n",
              "</table>\n",
              "</div>"
            ],
            "text/plain": [
              "          0         1        2  ...         6           7          8\n",
              "0 -7.248001  0.296719 -0.67357  ... -9.777218  417.372676 -30.397389\n",
              "\n",
              "[1 rows x 9 columns]"
            ]
          },
          "metadata": {
            "tags": []
          },
          "execution_count": 61
        }
      ]
    },
    {
      "cell_type": "code",
      "metadata": {
        "id": "ysi8oL5BKwzp",
        "colab": {
          "base_uri": "https://localhost:8080/",
          "height": 80
        },
        "outputId": "eeacf3f7-acd8-4ad2-806d-e9c480e7b588"
      },
      "source": [
        "# optimal values for ridge regression\n",
        "lambdas=[10**-1]\n",
        "beta_final=[]\n",
        "\n",
        "   \n",
        "\n",
        "beta_final=[cd_solver(X,y,lamb,1) for lamb in lambdas] \n",
        "betas_final=pd.DataFrame(beta_final)\n",
        "betas_final\n",
        "     \n",
        "      \n",
        "\n",
        "     \n"
      ],
      "execution_count": null,
      "outputs": [
        {
          "output_type": "execute_result",
          "data": {
            "text/html": [
              "<div>\n",
              "<style scoped>\n",
              "    .dataframe tbody tr th:only-of-type {\n",
              "        vertical-align: middle;\n",
              "    }\n",
              "\n",
              "    .dataframe tbody tr th {\n",
              "        vertical-align: top;\n",
              "    }\n",
              "\n",
              "    .dataframe thead th {\n",
              "        text-align: right;\n",
              "    }\n",
              "</style>\n",
              "<table border=\"1\" class=\"dataframe\">\n",
              "  <thead>\n",
              "    <tr style=\"text-align: right;\">\n",
              "      <th></th>\n",
              "      <th>0</th>\n",
              "      <th>1</th>\n",
              "      <th>2</th>\n",
              "      <th>3</th>\n",
              "      <th>4</th>\n",
              "      <th>5</th>\n",
              "      <th>6</th>\n",
              "      <th>7</th>\n",
              "      <th>8</th>\n",
              "    </tr>\n",
              "  </thead>\n",
              "  <tbody>\n",
              "    <tr>\n",
              "      <th>0</th>\n",
              "      <td>-7.241694</td>\n",
              "      <td>0.285999</td>\n",
              "      <td>-0.515747</td>\n",
              "      <td>9.231438</td>\n",
              "      <td>-2.564541</td>\n",
              "      <td>-16.011411</td>\n",
              "      <td>-10.433016</td>\n",
              "      <td>416.907843</td>\n",
              "      <td>-31.446685</td>\n",
              "    </tr>\n",
              "  </tbody>\n",
              "</table>\n",
              "</div>"
            ],
            "text/plain": [
              "          0         1         2  ...          6           7          8\n",
              "0 -7.241694  0.285999 -0.515747  ... -10.433016  416.907843 -31.446685\n",
              "\n",
              "[1 rows x 9 columns]"
            ]
          },
          "metadata": {
            "tags": []
          },
          "execution_count": 60
        }
      ]
    },
    {
      "cell_type": "markdown",
      "metadata": {
        "id": "xXHcNlbIRGQj"
      },
      "source": [
        "Lasso regression is the optimal model for this data set with the smallest value MSE. However, ridge regression MSE value are slighly different as seem previouly. Here in deliveriable 4 we printed both Models Beta Hat and we can only see a slight difference in their values."
      ]
    },
    {
      "cell_type": "code",
      "metadata": {
        "id": "aWha2rqE6SBF"
      },
      "source": [
        ""
      ],
      "execution_count": null,
      "outputs": []
    }
  ]
}