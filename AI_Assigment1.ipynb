{
  "nbformat": 4,
  "nbformat_minor": 0,
  "metadata": {
    "colab": {
      "name": "AI_Assigment1",
      "provenance": [],
      "collapsed_sections": [],
      "authorship_tag": "ABX9TyNi5Ibl1UC5CgP9WEQAFXNR",
      "include_colab_link": true
    },
    "kernelspec": {
      "name": "python3",
      "display_name": "Python 3"
    }
  },
  "cells": [
    {
      "cell_type": "markdown",
      "metadata": {
        "id": "view-in-github",
        "colab_type": "text"
      },
      "source": [
        "<a href=\"https://colab.research.google.com/github/mathcarl/Computational-AI/blob/main/AI_Assigment1.ipynb\" target=\"_parent\"><img src=\"https://colab.research.google.com/assets/colab-badge.svg\" alt=\"Open In Colab\"/></a>"
      ]
    },
    {
      "cell_type": "markdown",
      "metadata": {
        "id": "qztKCqjxGh8O"
      },
      "source": [
        "Assigment 1\n"
      ]
    },
    {
      "cell_type": "code",
      "metadata": {
        "id": "P-hexvSKK4Eh"
      },
      "source": [
        "import pandas as pd\n",
        "import numpy as np\n",
        "import matplotlib.pyplot as plt\n",
        "import math\n",
        "import seaborn as sns\n",
        "\n",
        "\n",
        "\n",
        "\n"
      ],
      "execution_count": 136,
      "outputs": []
    },
    {
      "cell_type": "code",
      "metadata": {
        "id": "z1c91pOHGQPK",
        "colab": {
          "resources": {
            "http://localhost:8080/nbextensions/google.colab/files.js": {
              "data": "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",
              "ok": true,
              "headers": [
                [
                  "content-type",
                  "application/javascript"
                ]
              ],
              "status": 200,
              "status_text": ""
            }
          },
          "base_uri": "https://localhost:8080/",
          "height": 72
        },
        "outputId": "725d931f-39bd-4684-aa0c-b53dd0dd1036"
      },
      "source": [
        "#Upload file from computer drive ( file name Credit_N400_p9.csv)\n",
        "from google.colab import files\n",
        "uploaded=files.upload()"
      ],
      "execution_count": 137,
      "outputs": [
        {
          "output_type": "display_data",
          "data": {
            "text/html": [
              "\n",
              "     <input type=\"file\" id=\"files-ef475f5c-d303-4658-b411-a4fa7434de92\" name=\"files[]\" multiple disabled\n",
              "        style=\"border:none\" />\n",
              "     <output id=\"result-ef475f5c-d303-4658-b411-a4fa7434de92\">\n",
              "      Upload widget is only available when the cell has been executed in the\n",
              "      current browser session. Please rerun this cell to enable.\n",
              "      </output>\n",
              "      <script src=\"/nbextensions/google.colab/files.js\"></script> "
            ],
            "text/plain": [
              "<IPython.core.display.HTML object>"
            ]
          },
          "metadata": {
            "tags": []
          }
        },
        {
          "output_type": "stream",
          "text": [
            "Saving Credit_N400_p9.csv to Credit_N400_p9 (3).csv\n"
          ],
          "name": "stdout"
        }
      ]
    },
    {
      "cell_type": "code",
      "metadata": {
        "id": "3mX9Bhr1G98I"
      },
      "source": [
        "import io\n",
        "credit = pd.read_csv(io.BytesIO(uploaded['Credit_N400_p9.csv']))\n",
        "# Dataset is now stored in a Pandas Dataframe"
      ],
      "execution_count": 138,
      "outputs": []
    },
    {
      "cell_type": "code",
      "metadata": {
        "id": "fKcFfiN-csNC"
      },
      "source": [
        "credit=credit.sample(frac=1).reset_index(drop=True)"
      ],
      "execution_count": 139,
      "outputs": []
    },
    {
      "cell_type": "code",
      "metadata": {
        "id": "ulf_5HKLNcmy"
      },
      "source": [
        "# Changes categorical values to o or 1\n",
        "credit['Gender']=credit['Gender'].astype('category')\n",
        "credit['Student']=credit['Student'].astype('category')\n",
        "credit['Married']=credit[\"Married\"].astype(\"category\")\n",
        "cat_columns=credit.select_dtypes(['category']).columns\n",
        "credit[cat_columns]=credit[cat_columns].apply(lambda x:x.cat.codes)\n"
      ],
      "execution_count": 179,
      "outputs": []
    },
    {
      "cell_type": "code",
      "metadata": {
        "id": "Mw9eDDa9PPx4",
        "colab": {
          "base_uri": "https://localhost:8080/"
        },
        "outputId": "86c63ad0-8616-4e05-b83a-41063051f48a"
      },
      "source": [
        "#Explore data\n",
        "print(credit.head())\n",
        "len(credit)"
      ],
      "execution_count": 180,
      "outputs": [
        {
          "output_type": "stream",
          "text": [
            "   Income  Limit  Rating  Cards  ...  Gender  Student  Married  Balance\n",
            "0  30.682   1671     160      2  ...       0        0        0        0\n",
            "1  14.956   4640     332      2  ...       1        0        0      681\n",
            "2  30.413   3690     299      2  ...       0        1        0      728\n",
            "3  21.551   5380     420      5  ...       1        0        1      907\n",
            "4  29.564   2529     192      1  ...       0        0        1        0\n",
            "\n",
            "[5 rows x 10 columns]\n"
          ],
          "name": "stdout"
        },
        {
          "output_type": "execute_result",
          "data": {
            "text/plain": [
              "400"
            ]
          },
          "metadata": {
            "tags": []
          },
          "execution_count": 180
        }
      ]
    },
    {
      "cell_type": "code",
      "metadata": {
        "id": "yJ1pcgMQmeSk"
      },
      "source": [
        "# select independent and dependent variables\n",
        "X=credit.drop(['Balance'],axis=1)\n",
        "y=credit['Balance']\n"
      ],
      "execution_count": 181,
      "outputs": []
    },
    {
      "cell_type": "code",
      "metadata": {
        "id": "vIy4aw-2mPE_"
      },
      "source": [
        "# creates a function to be recalled to standardize the data\n",
        "def standardize(X):\n",
        "  credit1=(X-X.mean())/X.std() # centralize and standardize the independent values\n",
        "  return credit1\n",
        "def centered_y(y):\n",
        "  credit2=y-y.mean()# centralize the response values\n",
        "  return credit2\n"
      ],
      "execution_count": 182,
      "outputs": []
    },
    {
      "cell_type": "code",
      "metadata": {
        "id": "cHjR_3YRoC6c",
        "colab": {
          "base_uri": "https://localhost:8080/",
          "height": 419
        },
        "outputId": "3b86b2e0-79d9-42e5-c1eb-b7ad091d15ce"
      },
      "source": [
        "# center and standardize the data\n",
        "X=standardize(X) # assign the standardization to the independent values in the list\n",
        "y=centered_y(y) # assign the centered function to the response values\n",
        "X# print standardize data"
      ],
      "execution_count": 183,
      "outputs": [
        {
          "output_type": "execute_result",
          "data": {
            "text/html": [
              "<div>\n",
              "<style scoped>\n",
              "    .dataframe tbody tr th:only-of-type {\n",
              "        vertical-align: middle;\n",
              "    }\n",
              "\n",
              "    .dataframe tbody tr th {\n",
              "        vertical-align: top;\n",
              "    }\n",
              "\n",
              "    .dataframe thead th {\n",
              "        text-align: right;\n",
              "    }\n",
              "</style>\n",
              "<table border=\"1\" class=\"dataframe\">\n",
              "  <thead>\n",
              "    <tr style=\"text-align: right;\">\n",
              "      <th></th>\n",
              "      <th>Income</th>\n",
              "      <th>Limit</th>\n",
              "      <th>Rating</th>\n",
              "      <th>Cards</th>\n",
              "      <th>Age</th>\n",
              "      <th>Education</th>\n",
              "      <th>Gender</th>\n",
              "      <th>Student</th>\n",
              "      <th>Married</th>\n",
              "    </tr>\n",
              "  </thead>\n",
              "  <tbody>\n",
              "    <tr>\n",
              "      <th>0</th>\n",
              "      <td>-0.412461</td>\n",
              "      <td>-1.327702</td>\n",
              "      <td>-1.259920</td>\n",
              "      <td>-0.698255</td>\n",
              "      <td>1.236681</td>\n",
              "      <td>-2.063863</td>\n",
              "      <td>-0.964384</td>\n",
              "      <td>-0.332916</td>\n",
              "      <td>-1.255665</td>\n",
              "    </tr>\n",
              "    <tr>\n",
              "      <th>1</th>\n",
              "      <td>-0.858661</td>\n",
              "      <td>-0.041418</td>\n",
              "      <td>-0.148264</td>\n",
              "      <td>-0.698255</td>\n",
              "      <td>-1.314073</td>\n",
              "      <td>-2.383842</td>\n",
              "      <td>1.034339</td>\n",
              "      <td>-0.332916</td>\n",
              "      <td>-1.255665</td>\n",
              "    </tr>\n",
              "    <tr>\n",
              "      <th>2</th>\n",
              "      <td>-0.420093</td>\n",
              "      <td>-0.452994</td>\n",
              "      <td>-0.361547</td>\n",
              "      <td>-0.698255</td>\n",
              "      <td>-1.777846</td>\n",
              "      <td>0.495967</td>\n",
              "      <td>-0.964384</td>\n",
              "      <td>2.996248</td>\n",
              "      <td>-1.255665</td>\n",
              "    </tr>\n",
              "    <tr>\n",
              "      <th>3</th>\n",
              "      <td>-0.671538</td>\n",
              "      <td>0.279179</td>\n",
              "      <td>0.420490</td>\n",
              "      <td>1.489490</td>\n",
              "      <td>-0.270583</td>\n",
              "      <td>1.455904</td>\n",
              "      <td>1.034339</td>\n",
              "      <td>-0.332916</td>\n",
              "      <td>0.794400</td>\n",
              "    </tr>\n",
              "    <tr>\n",
              "      <th>4</th>\n",
              "      <td>-0.444182</td>\n",
              "      <td>-0.955983</td>\n",
              "      <td>-1.053100</td>\n",
              "      <td>-1.427504</td>\n",
              "      <td>-1.487988</td>\n",
              "      <td>-0.463969</td>\n",
              "      <td>-0.964384</td>\n",
              "      <td>-0.332916</td>\n",
              "      <td>0.794400</td>\n",
              "    </tr>\n",
              "    <tr>\n",
              "      <th>...</th>\n",
              "      <td>...</td>\n",
              "      <td>...</td>\n",
              "      <td>...</td>\n",
              "      <td>...</td>\n",
              "      <td>...</td>\n",
              "      <td>...</td>\n",
              "      <td>...</td>\n",
              "      <td>...</td>\n",
              "      <td>...</td>\n",
              "    </tr>\n",
              "    <tr>\n",
              "      <th>395</th>\n",
              "      <td>-0.808866</td>\n",
              "      <td>0.233255</td>\n",
              "      <td>0.207207</td>\n",
              "      <td>0.030993</td>\n",
              "      <td>-0.792328</td>\n",
              "      <td>0.815946</td>\n",
              "      <td>-0.964384</td>\n",
              "      <td>-0.332916</td>\n",
              "      <td>0.794400</td>\n",
              "    </tr>\n",
              "    <tr>\n",
              "      <th>396</th>\n",
              "      <td>-0.789543</td>\n",
              "      <td>-0.861104</td>\n",
              "      <td>-0.820428</td>\n",
              "      <td>0.030993</td>\n",
              "      <td>-1.372044</td>\n",
              "      <td>0.175988</td>\n",
              "      <td>1.034339</td>\n",
              "      <td>-0.332916</td>\n",
              "      <td>0.794400</td>\n",
              "    </tr>\n",
              "    <tr>\n",
              "      <th>397</th>\n",
              "      <td>-0.257542</td>\n",
              "      <td>-1.249286</td>\n",
              "      <td>-1.111268</td>\n",
              "      <td>0.030993</td>\n",
              "      <td>-1.314073</td>\n",
              "      <td>-0.143990</td>\n",
              "      <td>-0.964384</td>\n",
              "      <td>-0.332916</td>\n",
              "      <td>-1.255665</td>\n",
              "    </tr>\n",
              "    <tr>\n",
              "      <th>398</th>\n",
              "      <td>-0.420292</td>\n",
              "      <td>-1.133178</td>\n",
              "      <td>-1.124194</td>\n",
              "      <td>-0.698255</td>\n",
              "      <td>1.352624</td>\n",
              "      <td>0.175988</td>\n",
              "      <td>1.034339</td>\n",
              "      <td>-0.332916</td>\n",
              "      <td>0.794400</td>\n",
              "    </tr>\n",
              "    <tr>\n",
              "      <th>399</th>\n",
              "      <td>-0.860619</td>\n",
              "      <td>0.004072</td>\n",
              "      <td>-0.103022</td>\n",
              "      <td>0.030993</td>\n",
              "      <td>0.135219</td>\n",
              "      <td>-0.463969</td>\n",
              "      <td>1.034339</td>\n",
              "      <td>-0.332916</td>\n",
              "      <td>0.794400</td>\n",
              "    </tr>\n",
              "  </tbody>\n",
              "</table>\n",
              "<p>400 rows × 9 columns</p>\n",
              "</div>"
            ],
            "text/plain": [
              "       Income     Limit    Rating  ...    Gender   Student   Married\n",
              "0   -0.412461 -1.327702 -1.259920  ... -0.964384 -0.332916 -1.255665\n",
              "1   -0.858661 -0.041418 -0.148264  ...  1.034339 -0.332916 -1.255665\n",
              "2   -0.420093 -0.452994 -0.361547  ... -0.964384  2.996248 -1.255665\n",
              "3   -0.671538  0.279179  0.420490  ...  1.034339 -0.332916  0.794400\n",
              "4   -0.444182 -0.955983 -1.053100  ... -0.964384 -0.332916  0.794400\n",
              "..        ...       ...       ...  ...       ...       ...       ...\n",
              "395 -0.808866  0.233255  0.207207  ... -0.964384 -0.332916  0.794400\n",
              "396 -0.789543 -0.861104 -0.820428  ...  1.034339 -0.332916  0.794400\n",
              "397 -0.257542 -1.249286 -1.111268  ... -0.964384 -0.332916 -1.255665\n",
              "398 -0.420292 -1.133178 -1.124194  ...  1.034339 -0.332916  0.794400\n",
              "399 -0.860619  0.004072 -0.103022  ...  1.034339 -0.332916  0.794400\n",
              "\n",
              "[400 rows x 9 columns]"
            ]
          },
          "metadata": {
            "tags": []
          },
          "execution_count": 183
        }
      ]
    },
    {
      "cell_type": "markdown",
      "metadata": {
        "id": "Y0Ad9ZzbtTsZ"
      },
      "source": [
        "![Screen Shot 2020-10-09 at 12.48.15 PM.png](data:image/png;base64,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)"
      ]
    },
    {
      "cell_type": "code",
      "metadata": {
        "id": "3kqXt5qEPtsJ"
      },
      "source": [
        "#Create a function for the parameter vector \n",
        "def gradient(X,y,alpha,lamb,beta):\n",
        "\n",
        "  \n",
        "\n",
        "  lambbeta=np.dot(lamb,beta)# matrix multiplication for lambda and beta\n",
        "\n",
        "  xst=np.transpose(X) # transpose the X values\n",
        "\n",
        "  xsbeta=np.dot(X,beta) # matrix multiplication for X and beta\n",
        "\n",
        "  prediction=np.subtract(y,xsbeta) # subtract xbeta  from y\n",
        "\n",
        "  prediction2=np.dot(xst,prediction) # combines and multiply previous defined variables\n",
        "  \n",
        "  beta2=np.dot(2*alpha,(np.subtract(lambbeta,prediction2)))\n",
        "  beta =np.subtract(beta,beta2)# total combination of the parameter vector\n",
        "  return beta # return the beta values from the parameter function\n",
        "\n",
        "\n",
        " \n",
        "   \n",
        "  "
      ],
      "execution_count": 145,
      "outputs": []
    },
    {
      "cell_type": "code",
      "metadata": {
        "id": "aUbq_3moPNtv",
        "colab": {
          "base_uri": "https://localhost:8080/",
          "height": 266
        },
        "outputId": "f7865a8b-81d3-4315-9c71-b061fa381225"
      },
      "source": [
        "lambdas=[10**-2,10**-1,10**0,10**1,10**2,10**3,10**4] # seven preditermined values of lambda\n",
        "beta_list=[] # empty list for beta values\n",
        "# calculate the gradient decent function to find the beta values for the given lambdas\n",
        "for lamb in lambdas:\n",
        "  beta=np.random.uniform(-1,1,X.shape[1])# initialize beta with random number from -1 to 1\n",
        "  for i in range(1000): # perform 1000 iterations\n",
        "    beta_hat=gradient(X,y,10**-5,lamb,beta) # apply the function gradient\n",
        "    beta=beta_hat # save the beta values\n",
        "  beta_list.append(beta)# create a list of the beta values\n",
        "  betalist=pd.DataFrame(beta_list)# convert to a data frame\n",
        "betalist # print  the beta list"
      ],
      "execution_count": 146,
      "outputs": [
        {
          "output_type": "execute_result",
          "data": {
            "text/html": [
              "<div>\n",
              "<style scoped>\n",
              "    .dataframe tbody tr th:only-of-type {\n",
              "        vertical-align: middle;\n",
              "    }\n",
              "\n",
              "    .dataframe tbody tr th {\n",
              "        vertical-align: top;\n",
              "    }\n",
              "\n",
              "    .dataframe thead th {\n",
              "        text-align: right;\n",
              "    }\n",
              "</style>\n",
              "<table border=\"1\" class=\"dataframe\">\n",
              "  <thead>\n",
              "    <tr style=\"text-align: right;\">\n",
              "      <th></th>\n",
              "      <th>0</th>\n",
              "      <th>1</th>\n",
              "      <th>2</th>\n",
              "      <th>3</th>\n",
              "      <th>4</th>\n",
              "      <th>5</th>\n",
              "      <th>6</th>\n",
              "      <th>7</th>\n",
              "      <th>8</th>\n",
              "    </tr>\n",
              "  </thead>\n",
              "  <tbody>\n",
              "    <tr>\n",
              "      <th>0</th>\n",
              "      <td>-227.510008</td>\n",
              "      <td>289.512243</td>\n",
              "      <td>284.170402</td>\n",
              "      <td>22.110792</td>\n",
              "      <td>-16.866383</td>\n",
              "      <td>-2.013060</td>\n",
              "      <td>3.677100</td>\n",
              "      <td>125.326260</td>\n",
              "      <td>-5.485700</td>\n",
              "    </tr>\n",
              "    <tr>\n",
              "      <th>1</th>\n",
              "      <td>-227.255957</td>\n",
              "      <td>289.235479</td>\n",
              "      <td>284.185978</td>\n",
              "      <td>22.112077</td>\n",
              "      <td>-16.881345</td>\n",
              "      <td>-2.008617</td>\n",
              "      <td>3.669083</td>\n",
              "      <td>125.290195</td>\n",
              "      <td>-5.489426</td>\n",
              "    </tr>\n",
              "    <tr>\n",
              "      <th>2</th>\n",
              "      <td>-225.116934</td>\n",
              "      <td>287.861636</td>\n",
              "      <td>283.307846</td>\n",
              "      <td>22.147926</td>\n",
              "      <td>-16.981357</td>\n",
              "      <td>-1.979127</td>\n",
              "      <td>3.603047</td>\n",
              "      <td>124.954538</td>\n",
              "      <td>-5.509558</td>\n",
              "    </tr>\n",
              "    <tr>\n",
              "      <th>3</th>\n",
              "      <td>-206.585911</td>\n",
              "      <td>277.597683</td>\n",
              "      <td>273.656846</td>\n",
              "      <td>22.430658</td>\n",
              "      <td>-17.673440</td>\n",
              "      <td>-1.740076</td>\n",
              "      <td>3.036004</td>\n",
              "      <td>121.788548</td>\n",
              "      <td>-5.629663</td>\n",
              "    </tr>\n",
              "    <tr>\n",
              "      <th>4</th>\n",
              "      <td>-91.235623</td>\n",
              "      <td>209.863300</td>\n",
              "      <td>208.329876</td>\n",
              "      <td>22.615793</td>\n",
              "      <td>-19.597737</td>\n",
              "      <td>-0.406081</td>\n",
              "      <td>-0.332483</td>\n",
              "      <td>97.597906</td>\n",
              "      <td>-5.818044</td>\n",
              "    </tr>\n",
              "    <tr>\n",
              "      <th>5</th>\n",
              "      <td>22.974251</td>\n",
              "      <td>84.063238</td>\n",
              "      <td>84.202757</td>\n",
              "      <td>10.261706</td>\n",
              "      <td>-5.683981</td>\n",
              "      <td>-0.100476</td>\n",
              "      <td>-1.993705</td>\n",
              "      <td>33.983938</td>\n",
              "      <td>-1.956860</td>\n",
              "    </tr>\n",
              "    <tr>\n",
              "      <th>6</th>\n",
              "      <td>7.300327</td>\n",
              "      <td>14.426757</td>\n",
              "      <td>14.459044</td>\n",
              "      <td>1.499893</td>\n",
              "      <td>-0.127477</td>\n",
              "      <td>-0.114057</td>\n",
              "      <td>-0.363408</td>\n",
              "      <td>4.568672</td>\n",
              "      <td>-0.133970</td>\n",
              "    </tr>\n",
              "  </tbody>\n",
              "</table>\n",
              "</div>"
            ],
            "text/plain": [
              "            0           1           2  ...         6           7         8\n",
              "0 -227.510008  289.512243  284.170402  ...  3.677100  125.326260 -5.485700\n",
              "1 -227.255957  289.235479  284.185978  ...  3.669083  125.290195 -5.489426\n",
              "2 -225.116934  287.861636  283.307846  ...  3.603047  124.954538 -5.509558\n",
              "3 -206.585911  277.597683  273.656846  ...  3.036004  121.788548 -5.629663\n",
              "4  -91.235623  209.863300  208.329876  ... -0.332483   97.597906 -5.818044\n",
              "5   22.974251   84.063238   84.202757  ... -1.993705   33.983938 -1.956860\n",
              "6    7.300327   14.426757   14.459044  ... -0.363408    4.568672 -0.133970\n",
              "\n",
              "[7 rows x 9 columns]"
            ]
          },
          "metadata": {
            "tags": []
          },
          "execution_count": 146
        }
      ]
    },
    {
      "cell_type": "markdown",
      "metadata": {
        "id": "7wvARDTgMz-O"
      },
      "source": [
        "#Deliverable 1: \n",
        "Illustrate the effect of the tuning parameter on the inferred ridge regression coefficients by generating a plot (e.g., using Excel, Matlab, R, etc.) of nine lines (one for each\n",
        "̂\n",
        "of the 𝑝 = 9 features), with the 𝑦-axis as 𝛽 , 𝑗 = 1,2, ... ,9, and the 𝑥-axis the corresponding\n",
        "𝑁\n",
        "̂\n",
        "12𝑝\n",
        "temp temp\n",
        "temp\n",
        "𝑗\n",
        " 𝑗\n",
        "̂\n",
        "log-scaled tuning parameter value log (𝜆) that generated the particular 𝛽 . Label both\n",
        "10 𝑗\n",
        "axes. Without the log scaling of the tuning parameter, the plot will look distorted."
      ]
    },
    {
      "cell_type": "code",
      "metadata": {
        "id": "5tIOd04b-W9j",
        "colab": {
          "base_uri": "https://localhost:8080/",
          "height": 306
        },
        "outputId": "50be8b8a-4762-428e-e7a2-f4f25bb3bc12"
      },
      "source": [
        "# plot results for beta values\n",
        "betas=pd.DataFrame(beta_list)\n",
        "betas.index=lambdas\n",
        "pd.DataFrame(betas,columns=X.columns[0:-1])\n",
        "\n",
        "\n",
        "\n",
        "with plt.style.context('fivethirtyeight'):\n",
        "  betas.plot()\n",
        "  plt.xscale(\"log\")\n",
        "  plt.xlabel(r'$\\lambda$',fontsize=16)\n",
        "  plt.ylabel('Coefficents')\n",
        "  plt.legend(loc='upper right')\n",
        "  plt.show()\n"
      ],
      "execution_count": 147,
      "outputs": [
        {
          "output_type": "display_data",
          "data": {
            "image/png": "[encoded data removed]",
            "text/plain": [
              "<Figure size 432x288 with 1 Axes>"
            ]
          },
          "metadata": {
            "tags": []
          }
        }
      ]
    },
    {
      "cell_type": "markdown",
      "metadata": {
        "id": "AOn58xWrNfnJ"
      },
      "source": [
        "#Deliverable 2:\n",
        " Illustrate the effect of the tuning parameter on the cross validation error by generating a plot (e.g., using Excel, Matlab, R, etc.) with the 𝑦-axis as CV error, and the 𝑥-\n",
        "axis the corresponding log-scaled tuning parameter value log10(𝜆) that generated the\n",
        "particular CV error. Label both axes. Without the log scaling of the tuning parameter, the (5)\n",
        "plot will look distorted."
      ]
    },
    {
      "cell_type": "code",
      "metadata": {
        "id": "ShJQNVynVNSn"
      },
      "source": [
        "# code for deliverable 2\n",
        "df=credit=credit.sample(frac=1).reset_index(drop=True)\n",
        "  \n",
        " \n"
      ],
      "execution_count": 148,
      "outputs": []
    },
    {
      "cell_type": "code",
      "metadata": {
        "id": "k-IQDN-cA9Ia"
      },
      "source": [
        " def cross_split(X,y,numfold):\n",
        "      \n",
        "       \n",
        "       # Step 1 split the data 80/20\n",
        "       validation = df[numfold*80:((numfold+1)*80)]\n",
        "       train = pd.concat([df[:numfold*80],df[((numfold+1)*80):]])\n",
        "       \n",
        "       \n",
        "       # Select training the data and drop Balance response variable     \n",
        "       rX_train=train.drop(['Balance'],axis=1)\n",
        "       ry_train=train['Balance']\n",
        "       # Step 2 Centralize and standardize the data\n",
        "       X_train=(rX_train-rX_train.mean())/rX_train.std()\n",
        "       y_train=ry_train-ry_train.mean()\n",
        "       # Select validation data and drop the response variable\n",
        "       rX_val=validation.drop(['Balance'],axis=1)\n",
        "       ry_val=validation['Balance']\n",
        "       # centralize and standardize the data\n",
        "       X_val=(rX_val-rX_train.mean())/rX_train.std()\n",
        "       y_val=ry_val-ry_train.mean()\n",
        "       \n",
        "       \n",
        "       return X_train,y_train,X_val,y_val\n"
      ],
      "execution_count": 165,
      "outputs": []
    },
    {
      "cell_type": "code",
      "metadata": {
        "id": "jOmpLKodLwn2"
      },
      "source": [
        "# Create function to predict for MSE later on\n",
        "def predict(val,beta):\n",
        "  prediction=np.dot(val,beta)\n",
        "  return prediction"
      ],
      "execution_count": 166,
      "outputs": []
    },
    {
      "cell_type": "code",
      "metadata": {
        "id": "l5fOMLDl7aNz"
      },
      "source": [
        "# create the MSE function to be used after gradient decent\n",
        "def mse(y_true,y_pred):\n",
        "  error=(np.sum((y_true-y_pred)**2))/len(y_true)\n",
        "  return error"
      ],
      "execution_count": 167,
      "outputs": []
    },
    {
      "cell_type": "code",
      "metadata": {
        "id": "y7tvTpgyshEK"
      },
      "source": [
        "# previously created gradient function\n",
        "def gradient(X,y,alpha,lamb,beta):\n",
        "\n",
        "  \n",
        "\n",
        "  lambbeta=np.dot(lamb,beta)\n",
        "\n",
        "  xst=np.transpose(X)\n",
        "\n",
        "  xsbeta=np.dot(X,beta)\n",
        "\n",
        "  prediction=np.subtract(y,xsbeta)\n",
        "\n",
        "  prediction2=np.dot(xst,prediction)\n",
        "  \n",
        "  beta2=np.dot(2*alpha,(np.subtract(lambbeta,prediction2)))\n",
        "  beta =np.subtract(beta,beta2)\n",
        "  return beta"
      ],
      "execution_count": 168,
      "outputs": []
    },
    {
      "cell_type": "code",
      "metadata": {
        "id": "tw39_UjlQ6kY",
        "colab": {
          "base_uri": "https://localhost:8080/"
        },
        "outputId": "c89558f2-3caf-4817-d069-b2dc266dffb9"
      },
      "source": [
        "lambdas=[10**-2,10**-1,10**0,10**1,10**2,10**3,10**4] # \n",
        "error_list=[]\n",
        "\n",
        "\n",
        "# step 3 apply gradient decent to training values\n",
        "\n",
        "for i in range(5): # Use the cross split to extract the 5 folds\n",
        "   X_train,y_train,X_val,y_val=cross_split(X,y,i)\n",
        "   #print(X_train)\n",
        "   \n",
        "   for lamb in lambdas:\n",
        "       beta=np.random.uniform(-1,1,X_train.shape[1]) # initialize beta values from -1 to 1\n",
        "   \n",
        " # loop to go over the seven lambdas \n",
        "       for k in range(1000): # apply gradient to training data\n",
        "          betahat=gradient(X_train,y_train,10**-5,lamb,beta)\n",
        "          beta=betahat\n",
        "      \n",
        "  \n",
        "# step 4 apply MSE      \n",
        "# apply MSE to the validation data and create a list       \n",
        "# MSE formula \n",
        "       prediction=predict(X_val,beta)\n",
        "       errors=mse(y_val,prediction)\n",
        "       \n",
        "       \n",
        "       error_list.append(errors)\n",
        "       \n",
        "       print(error_list)\n",
        "       \n",
        "       \n",
        "        \n",
        "      \n",
        "   \n",
        "      \n",
        "      \n",
        "     \n"
      ],
      "execution_count": 190,
      "outputs": [
        {
          "output_type": "stream",
          "text": [
            "[13386.649987012803]\n",
            "[13386.649987012803, 13396.228039058862]\n",
            "[13386.649987012803, 13396.228039058862, 13461.510254289577]\n",
            "[13386.649987012803, 13396.228039058862, 13461.510254289577, 14308.727813130283]\n",
            "[13386.649987012803, 13396.228039058862, 13461.510254289577, 14308.727813130283, 28290.276326552772]\n",
            "[13386.649987012803, 13396.228039058862, 13461.510254289577, 14308.727813130283, 28290.276326552772, 101505.94650999596]\n",
            "[13386.649987012803, 13396.228039058862, 13461.510254289577, 14308.727813130283, 28290.276326552772, 101505.94650999596, 188737.88407161218]\n",
            "[13386.649987012803, 13396.228039058862, 13461.510254289577, 14308.727813130283, 28290.276326552772, 101505.94650999596, 188737.88407161218, 11547.741341466983]\n",
            "[13386.649987012803, 13396.228039058862, 13461.510254289577, 14308.727813130283, 28290.276326552772, 101505.94650999596, 188737.88407161218, 11547.741341466983, 11586.433148058013]\n",
            "[13386.649987012803, 13396.228039058862, 13461.510254289577, 14308.727813130283, 28290.276326552772, 101505.94650999596, 188737.88407161218, 11547.741341466983, 11586.433148058013, 11779.361152976788]\n",
            "[13386.649987012803, 13396.228039058862, 13461.510254289577, 14308.727813130283, 28290.276326552772, 101505.94650999596, 188737.88407161218, 11547.741341466983, 11586.433148058013, 11779.361152976788, 13847.184401405608]\n",
            "[13386.649987012803, 13396.228039058862, 13461.510254289577, 14308.727813130283, 28290.276326552772, 101505.94650999596, 188737.88407161218, 11547.741341466983, 11586.433148058013, 11779.361152976788, 13847.184401405608, 34506.65568667081]\n",
            "[13386.649987012803, 13396.228039058862, 13461.510254289577, 14308.727813130283, 28290.276326552772, 101505.94650999596, 188737.88407161218, 11547.741341466983, 11586.433148058013, 11779.361152976788, 13847.184401405608, 34506.65568667081, 103193.25578705063]\n",
            "[13386.649987012803, 13396.228039058862, 13461.510254289577, 14308.727813130283, 28290.276326552772, 101505.94650999596, 188737.88407161218, 11547.741341466983, 11586.433148058013, 11779.361152976788, 13847.184401405608, 34506.65568667081, 103193.25578705063, 178969.4330184801]\n",
            "[13386.649987012803, 13396.228039058862, 13461.510254289577, 14308.727813130283, 28290.276326552772, 101505.94650999596, 188737.88407161218, 11547.741341466983, 11586.433148058013, 11779.361152976788, 13847.184401405608, 34506.65568667081, 103193.25578705063, 178969.4330184801, 10776.064016043445]\n",
            "[13386.649987012803, 13396.228039058862, 13461.510254289577, 14308.727813130283, 28290.276326552772, 101505.94650999596, 188737.88407161218, 11547.741341466983, 11586.433148058013, 11779.361152976788, 13847.184401405608, 34506.65568667081, 103193.25578705063, 178969.4330184801, 10776.064016043445, 10783.858732520788]\n",
            "[13386.649987012803, 13396.228039058862, 13461.510254289577, 14308.727813130283, 28290.276326552772, 101505.94650999596, 188737.88407161218, 11547.741341466983, 11586.433148058013, 11779.361152976788, 13847.184401405608, 34506.65568667081, 103193.25578705063, 178969.4330184801, 10776.064016043445, 10783.858732520788, 10929.7619682421]\n",
            "[13386.649987012803, 13396.228039058862, 13461.510254289577, 14308.727813130283, 28290.276326552772, 101505.94650999596, 188737.88407161218, 11547.741341466983, 11586.433148058013, 11779.361152976788, 13847.184401405608, 34506.65568667081, 103193.25578705063, 178969.4330184801, 10776.064016043445, 10783.858732520788, 10929.7619682421, 12474.329360081963]\n",
            "[13386.649987012803, 13396.228039058862, 13461.510254289577, 14308.727813130283, 28290.276326552772, 101505.94650999596, 188737.88407161218, 11547.741341466983, 11586.433148058013, 11779.361152976788, 13847.184401405608, 34506.65568667081, 103193.25578705063, 178969.4330184801, 10776.064016043445, 10783.858732520788, 10929.7619682421, 12474.329360081963, 29541.449824615313]\n",
            "[13386.649987012803, 13396.228039058862, 13461.510254289577, 14308.727813130283, 28290.276326552772, 101505.94650999596, 188737.88407161218, 11547.741341466983, 11586.433148058013, 11779.361152976788, 13847.184401405608, 34506.65568667081, 103193.25578705063, 178969.4330184801, 10776.064016043445, 10783.858732520788, 10929.7619682421, 12474.329360081963, 29541.449824615313, 102600.40106281087]\n",
            "[13386.649987012803, 13396.228039058862, 13461.510254289577, 14308.727813130283, 28290.276326552772, 101505.94650999596, 188737.88407161218, 11547.741341466983, 11586.433148058013, 11779.361152976788, 13847.184401405608, 34506.65568667081, 103193.25578705063, 178969.4330184801, 10776.064016043445, 10783.858732520788, 10929.7619682421, 12474.329360081963, 29541.449824615313, 102600.40106281087, 187542.85561817331]\n",
            "[13386.649987012803, 13396.228039058862, 13461.510254289577, 14308.727813130283, 28290.276326552772, 101505.94650999596, 188737.88407161218, 11547.741341466983, 11586.433148058013, 11779.361152976788, 13847.184401405608, 34506.65568667081, 103193.25578705063, 178969.4330184801, 10776.064016043445, 10783.858732520788, 10929.7619682421, 12474.329360081963, 29541.449824615313, 102600.40106281087, 187542.85561817331, 15074.280830018373]\n",
            "[13386.649987012803, 13396.228039058862, 13461.510254289577, 14308.727813130283, 28290.276326552772, 101505.94650999596, 188737.88407161218, 11547.741341466983, 11586.433148058013, 11779.361152976788, 13847.184401405608, 34506.65568667081, 103193.25578705063, 178969.4330184801, 10776.064016043445, 10783.858732520788, 10929.7619682421, 12474.329360081963, 29541.449824615313, 102600.40106281087, 187542.85561817331, 15074.280830018373, 15094.956898882223]\n",
            "[13386.649987012803, 13396.228039058862, 13461.510254289577, 14308.727813130283, 28290.276326552772, 101505.94650999596, 188737.88407161218, 11547.741341466983, 11586.433148058013, 11779.361152976788, 13847.184401405608, 34506.65568667081, 103193.25578705063, 178969.4330184801, 10776.064016043445, 10783.858732520788, 10929.7619682421, 12474.329360081963, 29541.449824615313, 102600.40106281087, 187542.85561817331, 15074.280830018373, 15094.956898882223, 15231.12243343544]\n",
            "[13386.649987012803, 13396.228039058862, 13461.510254289577, 14308.727813130283, 28290.276326552772, 101505.94650999596, 188737.88407161218, 11547.741341466983, 11586.433148058013, 11779.361152976788, 13847.184401405608, 34506.65568667081, 103193.25578705063, 178969.4330184801, 10776.064016043445, 10783.858732520788, 10929.7619682421, 12474.329360081963, 29541.449824615313, 102600.40106281087, 187542.85561817331, 15074.280830018373, 15094.956898882223, 15231.12243343544, 16794.102322758554]\n",
            "[13386.649987012803, 13396.228039058862, 13461.510254289577, 14308.727813130283, 28290.276326552772, 101505.94650999596, 188737.88407161218, 11547.741341466983, 11586.433148058013, 11779.361152976788, 13847.184401405608, 34506.65568667081, 103193.25578705063, 178969.4330184801, 10776.064016043445, 10783.858732520788, 10929.7619682421, 12474.329360081963, 29541.449824615313, 102600.40106281087, 187542.85561817331, 15074.280830018373, 15094.956898882223, 15231.12243343544, 16794.102322758554, 38402.77685116967]\n",
            "[13386.649987012803, 13396.228039058862, 13461.510254289577, 14308.727813130283, 28290.276326552772, 101505.94650999596, 188737.88407161218, 11547.741341466983, 11586.433148058013, 11779.361152976788, 13847.184401405608, 34506.65568667081, 103193.25578705063, 178969.4330184801, 10776.064016043445, 10783.858732520788, 10929.7619682421, 12474.329360081963, 29541.449824615313, 102600.40106281087, 187542.85561817331, 15074.280830018373, 15094.956898882223, 15231.12243343544, 16794.102322758554, 38402.77685116967, 136059.64872261943]\n",
            "[13386.649987012803, 13396.228039058862, 13461.510254289577, 14308.727813130283, 28290.276326552772, 101505.94650999596, 188737.88407161218, 11547.741341466983, 11586.433148058013, 11779.361152976788, 13847.184401405608, 34506.65568667081, 103193.25578705063, 178969.4330184801, 10776.064016043445, 10783.858732520788, 10929.7619682421, 12474.329360081963, 29541.449824615313, 102600.40106281087, 187542.85561817331, 15074.280830018373, 15094.956898882223, 15231.12243343544, 16794.102322758554, 38402.77685116967, 136059.64872261943, 232187.91328830007]\n",
            "[13386.649987012803, 13396.228039058862, 13461.510254289577, 14308.727813130283, 28290.276326552772, 101505.94650999596, 188737.88407161218, 11547.741341466983, 11586.433148058013, 11779.361152976788, 13847.184401405608, 34506.65568667081, 103193.25578705063, 178969.4330184801, 10776.064016043445, 10783.858732520788, 10929.7619682421, 12474.329360081963, 29541.449824615313, 102600.40106281087, 187542.85561817331, 15074.280830018373, 15094.956898882223, 15231.12243343544, 16794.102322758554, 38402.77685116967, 136059.64872261943, 232187.91328830007, 11818.966421935658]\n",
            "[13386.649987012803, 13396.228039058862, 13461.510254289577, 14308.727813130283, 28290.276326552772, 101505.94650999596, 188737.88407161218, 11547.741341466983, 11586.433148058013, 11779.361152976788, 13847.184401405608, 34506.65568667081, 103193.25578705063, 178969.4330184801, 10776.064016043445, 10783.858732520788, 10929.7619682421, 12474.329360081963, 29541.449824615313, 102600.40106281087, 187542.85561817331, 15074.280830018373, 15094.956898882223, 15231.12243343544, 16794.102322758554, 38402.77685116967, 136059.64872261943, 232187.91328830007, 11818.966421935658, 11819.676520059724]\n",
            "[13386.649987012803, 13396.228039058862, 13461.510254289577, 14308.727813130283, 28290.276326552772, 101505.94650999596, 188737.88407161218, 11547.741341466983, 11586.433148058013, 11779.361152976788, 13847.184401405608, 34506.65568667081, 103193.25578705063, 178969.4330184801, 10776.064016043445, 10783.858732520788, 10929.7619682421, 12474.329360081963, 29541.449824615313, 102600.40106281087, 187542.85561817331, 15074.280830018373, 15094.956898882223, 15231.12243343544, 16794.102322758554, 38402.77685116967, 136059.64872261943, 232187.91328830007, 11818.966421935658, 11819.676520059724, 11874.580071806931]\n",
            "[13386.649987012803, 13396.228039058862, 13461.510254289577, 14308.727813130283, 28290.276326552772, 101505.94650999596, 188737.88407161218, 11547.741341466983, 11586.433148058013, 11779.361152976788, 13847.184401405608, 34506.65568667081, 103193.25578705063, 178969.4330184801, 10776.064016043445, 10783.858732520788, 10929.7619682421, 12474.329360081963, 29541.449824615313, 102600.40106281087, 187542.85561817331, 15074.280830018373, 15094.956898882223, 15231.12243343544, 16794.102322758554, 38402.77685116967, 136059.64872261943, 232187.91328830007, 11818.966421935658, 11819.676520059724, 11874.580071806931, 12591.351319339887]\n",
            "[13386.649987012803, 13396.228039058862, 13461.510254289577, 14308.727813130283, 28290.276326552772, 101505.94650999596, 188737.88407161218, 11547.741341466983, 11586.433148058013, 11779.361152976788, 13847.184401405608, 34506.65568667081, 103193.25578705063, 178969.4330184801, 10776.064016043445, 10783.858732520788, 10929.7619682421, 12474.329360081963, 29541.449824615313, 102600.40106281087, 187542.85561817331, 15074.280830018373, 15094.956898882223, 15231.12243343544, 16794.102322758554, 38402.77685116967, 136059.64872261943, 232187.91328830007, 11818.966421935658, 11819.676520059724, 11874.580071806931, 12591.351319339887, 25413.7519381885]\n",
            "[13386.649987012803, 13396.228039058862, 13461.510254289577, 14308.727813130283, 28290.276326552772, 101505.94650999596, 188737.88407161218, 11547.741341466983, 11586.433148058013, 11779.361152976788, 13847.184401405608, 34506.65568667081, 103193.25578705063, 178969.4330184801, 10776.064016043445, 10783.858732520788, 10929.7619682421, 12474.329360081963, 29541.449824615313, 102600.40106281087, 187542.85561817331, 15074.280830018373, 15094.956898882223, 15231.12243343544, 16794.102322758554, 38402.77685116967, 136059.64872261943, 232187.91328830007, 11818.966421935658, 11819.676520059724, 11874.580071806931, 12591.351319339887, 25413.7519381885, 92587.86355676125]\n",
            "[13386.649987012803, 13396.228039058862, 13461.510254289577, 14308.727813130283, 28290.276326552772, 101505.94650999596, 188737.88407161218, 11547.741341466983, 11586.433148058013, 11779.361152976788, 13847.184401405608, 34506.65568667081, 103193.25578705063, 178969.4330184801, 10776.064016043445, 10783.858732520788, 10929.7619682421, 12474.329360081963, 29541.449824615313, 102600.40106281087, 187542.85561817331, 15074.280830018373, 15094.956898882223, 15231.12243343544, 16794.102322758554, 38402.77685116967, 136059.64872261943, 232187.91328830007, 11818.966421935658, 11819.676520059724, 11874.580071806931, 12591.351319339887, 25413.7519381885, 92587.86355676125, 168566.0283159833]\n"
          ],
          "name": "stdout"
        }
      ]
    },
    {
      "cell_type": "code",
      "metadata": {
        "id": "h_DmDH7ntfdx",
        "colab": {
          "base_uri": "https://localhost:8080/"
        },
        "outputId": "233b9ea0-d199-469b-9265-6172bba83cb6"
      },
      "source": [
        "len(error_list)"
      ],
      "execution_count": 191,
      "outputs": [
        {
          "output_type": "execute_result",
          "data": {
            "text/plain": [
              "35"
            ]
          },
          "metadata": {
            "tags": []
          },
          "execution_count": 191
        }
      ]
    },
    {
      "cell_type": "code",
      "metadata": {
        "id": "nEL_WFOTb5uH",
        "colab": {
          "base_uri": "https://localhost:8080/"
        },
        "outputId": "a6db94f6-3ec0-4824-e962-26244a8b6ca3"
      },
      "source": [
        "# extract values from error list \n",
        "# values for every fold are  spread 7 values  from each\n",
        "# find the avarage of every fold \n",
        "#errort=(error_list[0],error_list[9],error_list[18],error_list[27],error_list[36])\n",
        "error1=(error_list[0]+error_list[7]+error_list[14]+error_list[21]+error_list[28])/5\n",
        "error2=(error_list[1]+error_list[8]+error_list[15]+error_list[22]+error_list[29])/5\n",
        "error3=(error_list[2]+error_list[9]+error_list[16]+error_list[23]+error_list[30])/5\n",
        "error4=(error_list[3]+error_list[10]+error_list[17]+error_list[24]+error_list[31])/5\n",
        "error5=(error_list[4]+error_list[11]+error_list[18]+error_list[25]+error_list[32])/5\n",
        "error6=(error_list[5]+error_list[12]+error_list[19]+error_list[26]+error_list[33])/5\n",
        "error7=(error_list[6]+error_list[13]+error_list[20]+error_list[27]+error_list[34])/5\n",
        "#error8=(error_list[7]+error_list[16]+error_list[25]+error_list[34]+error_list[43])/5\n",
        "#error9=(error_list[8]+error_list[17]+error_list[26]+error_list[35]+error_list[44])/5\n",
        "# create a list of the avg of the errors\n",
        "error_avg=[error1,error2,error3,error4,error5,error6,error7]\n",
        "#print(error1)\n",
        "errors=pd.DataFrame(error_avg)\n",
        "print(errors)\n"
      ],
      "execution_count": 192,
      "outputs": [
        {
          "output_type": "stream",
          "text": [
            "               0\n",
            "0   12520.740519\n",
            "1   12536.230668\n",
            "2   12655.267176\n",
            "3   14003.139043\n",
            "4   31230.982125\n",
            "5  107189.423128\n",
            "6  191200.822863\n"
          ],
          "name": "stdout"
        }
      ]
    },
    {
      "cell_type": "code",
      "metadata": {
        "id": "Ub7LbCThO1vE",
        "colab": {
          "base_uri": "https://localhost:8080/",
          "height": 314
        },
        "outputId": "f87146f4-64fa-43e1-af24-b8069110b8f9"
      },
      "source": [
        "# plot the values for  the MSE\n",
        "\n",
        "\n",
        "with plt.style.context('fivethirtyeight'):\n",
        "\n",
        "  plt.plot(lambdas,error_avg)\n",
        "  plt.xscale('log')\n",
        "  plt.xlabel('$\\lambda$')\n",
        "  plt.show()\n"
      ],
      "execution_count": 193,
      "outputs": [
        {
          "output_type": "display_data",
          "data": {
            "image/png": "[encoded data removed]",
            "text/plain": [
              "<Figure size 432x288 with 1 Axes>"
            ]
          },
          "metadata": {
            "tags": []
          }
        }
      ]
    },
    {
      "cell_type": "markdown",
      "metadata": {
        "id": "6-Jtq2q4Hmyv"
      },
      "source": [
        "#Deliverable 3: \n",
        "Indicate the value of 𝜆 that generated the smallest CV(5) error."
      ]
    },
    {
      "cell_type": "markdown",
      "metadata": {
        "id": "UUHbIMUZ9w8i"
      },
      "source": [
        "The smallest CV(5) values are: 10^-2."
      ]
    },
    {
      "cell_type": "markdown",
      "metadata": {
        "id": "ULekiaMVHtHE"
      },
      "source": [
        "##Deliverable 4:\n",
        " Given the optimal 𝜆, retrain your model on the entire dataset of 𝑁 = 400 observations and provide the estimates of the 𝑝 = 9 best-fit model parameters.\n",
        " Beta values= -227.33,289.55,283.97,22.13,-16.89,-2.01,3.67,125.32,-5.49"
      ]
    },
    {
      "cell_type": "code",
      "metadata": {
        "id": "AMThrpqi59uE"
      },
      "source": [
        "\n",
        "beta_list=[]\n",
        "\n",
        "# Run Model using the best parameters\n",
        "beta=np.random.uniform(-1,1,X.shape[1])\n",
        "for i in range(1000):\n",
        "    beta_hat=gradient(X,y,10**-5,10**-2,beta)\n",
        "    beta=beta_hat\n",
        "beta_list.append(beta)\n",
        "betalist=pd.DataFrame(beta_list)\n"
      ],
      "execution_count": 198,
      "outputs": []
    },
    {
      "cell_type": "markdown",
      "metadata": {
        "id": "NvjIPbQC8kDb"
      },
      "source": [
        "Beta values= -227.33,289.55,283.97,22.13,-16.89,-2.01,3.67,125.32,-5.49"
      ]
    },
    {
      "cell_type": "code",
      "metadata": {
        "id": "4uUbm2QuwKBG",
        "colab": {
          "base_uri": "https://localhost:8080/",
          "height": 80
        },
        "outputId": "2d107d16-17eb-4936-f5e4-1bc3d82c271e"
      },
      "source": [
        "betalist"
      ],
      "execution_count": 199,
      "outputs": [
        {
          "output_type": "execute_result",
          "data": {
            "text/html": [
              "<div>\n",
              "<style scoped>\n",
              "    .dataframe tbody tr th:only-of-type {\n",
              "        vertical-align: middle;\n",
              "    }\n",
              "\n",
              "    .dataframe tbody tr th {\n",
              "        vertical-align: top;\n",
              "    }\n",
              "\n",
              "    .dataframe thead th {\n",
              "        text-align: right;\n",
              "    }\n",
              "</style>\n",
              "<table border=\"1\" class=\"dataframe\">\n",
              "  <thead>\n",
              "    <tr style=\"text-align: right;\">\n",
              "      <th></th>\n",
              "      <th>0</th>\n",
              "      <th>1</th>\n",
              "      <th>2</th>\n",
              "      <th>3</th>\n",
              "      <th>4</th>\n",
              "      <th>5</th>\n",
              "      <th>6</th>\n",
              "      <th>7</th>\n",
              "      <th>8</th>\n",
              "    </tr>\n",
              "  </thead>\n",
              "  <tbody>\n",
              "    <tr>\n",
              "      <th>0</th>\n",
              "      <td>-227.331432</td>\n",
              "      <td>288.738728</td>\n",
              "      <td>284.784438</td>\n",
              "      <td>22.093079</td>\n",
              "      <td>-16.889553</td>\n",
              "      <td>-2.006238</td>\n",
              "      <td>3.671093</td>\n",
              "      <td>125.314033</td>\n",
              "      <td>-5.495546</td>\n",
              "    </tr>\n",
              "  </tbody>\n",
              "</table>\n",
              "</div>"
            ],
            "text/plain": [
              "            0           1           2  ...         6           7         8\n",
              "0 -227.331432  288.738728  284.784438  ...  3.671093  125.314033 -5.495546\n",
              "\n",
              "[1 rows x 9 columns]"
            ]
          },
          "metadata": {
            "tags": []
          },
          "execution_count": 199
        }
      ]
    },
    {
      "cell_type": "markdown",
      "metadata": {
        "id": "W4dAlz4GfRNo"
      },
      "source": [
        "#Deliverable 5: \n",
        "Provide all your source code that you wrote from scratch to perform all analyses (aside from plotting scripts, which you do not need to turn in) in this assignment, along with instructions on how to compile and run your code."
      ]
    },
    {
      "cell_type": "markdown",
      "metadata": {
        "id": "pF3CHagXfdMz"
      },
      "source": [
        "Code was given thru out the assigment and explained with comments."
      ]
    }
  ]
}